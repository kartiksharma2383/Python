{
  "nbformat": 4,
  "nbformat_minor": 0,
  "metadata": {
    "colab": {
      "provenance": [],
      "authorship_tag": "ABX9TyND6fiE31ZfeJs94aeDgdaK",
      "include_colab_link": true
    },
    "kernelspec": {
      "name": "python3",
      "display_name": "Python 3"
    },
    "language_info": {
      "name": "python"
    }
  },
  "cells": [
    {
      "cell_type": "markdown",
      "metadata": {
        "id": "view-in-github",
        "colab_type": "text"
      },
      "source": [
        "<a href=\"https://colab.research.google.com/github/kartiksharma2383/Python/blob/main/Exception_Handling_in_Python.ipynb\" target=\"_parent\"><img src=\"https://colab.research.google.com/assets/colab-badge.svg\" alt=\"Open In Colab\"/></a>"
      ]
    },
    {
      "cell_type": "code",
      "execution_count": 20,
      "metadata": {
        "colab": {
          "base_uri": "https://localhost:8080/"
        },
        "id": "WeISHDyx1qB-",
        "outputId": "915ab90c-2288-4a97-955c-135d549fb066"
      },
      "outputs": [
        {
          "output_type": "stream",
          "name": "stdout",
          "text": [
            "can't be divided by zero\n"
          ]
        }
      ],
      "source": [
        "# Exception handling(It handles errors that occur during the execution of a program, it enables you to catch and manage errors)\n",
        "n = 10\n",
        "try:\n",
        "  res = n/0\n",
        "except ZeroDivisionError:\n",
        "  print(\"can't be divided by zero\")"
      ]
    },
    {
      "cell_type": "code",
      "source": [
        "# try block: It lets us test a block of code for errors\n",
        "# except block: It enables us to handle the error or exception.\n",
        "# else block: It runs only if no exceptions are raised in the try block.\n",
        "# finally block: It always runs, regardless of whether an exception occurred or not.\n",
        "try:\n",
        "  n = 0\n",
        "  res = 100/n\n",
        "except ZeroDivisionError:\n",
        "  print(\"can't divide by zero\")\n",
        "except ValueError:\n",
        "  print(\"enter no.\")\n",
        "else:\n",
        "  print(\"result\", res)\n",
        "finally:\n",
        "  print(\"execution complete\")"
      ],
      "metadata": {
        "colab": {
          "base_uri": "https://localhost:8080/"
        },
        "id": "fFgHvuMy2rzP",
        "outputId": "a03ce3bc-e8f6-444c-abc4-76e7d9a5c4de"
      },
      "execution_count": 21,
      "outputs": [
        {
          "output_type": "stream",
          "name": "stdout",
          "text": [
            "can't divide by zero\n",
            "execution complete\n"
          ]
        }
      ]
    },
    {
      "cell_type": "code",
      "source": [
        "# catching specific exceptions\n",
        "try:\n",
        "  x = int(\"str\")\n",
        "  inv = 1 / x\n",
        "except ValueError:\n",
        "  print(\"not valid\")\n",
        "except ZeroDivisionError:\n",
        "  print(\"zero has no inverse\")"
      ],
      "metadata": {
        "colab": {
          "base_uri": "https://localhost:8080/"
        },
        "id": "WotHto0T357G",
        "outputId": "c934ae3a-3b1e-4a6e-aa9a-1243491d0e89"
      },
      "execution_count": 22,
      "outputs": [
        {
          "output_type": "stream",
          "name": "stdout",
          "text": [
            "not valid\n"
          ]
        }
      ]
    },
    {
      "cell_type": "code",
      "source": [
        "# catching multiple exception\n",
        "a = [\"10\", \"twenty\", 30]\n",
        "try:\n",
        "  total = int(a[0] + int(a[1]))\n",
        "except (ValueError, TypeError) as e:\n",
        "  print(\"Error\", e)\n",
        "except IndexError:\n",
        "  print(\"index out of range\")"
      ],
      "metadata": {
        "colab": {
          "base_uri": "https://localhost:8080/"
        },
        "id": "HekttdKf5AfL",
        "outputId": "69ade21f-c27f-49a4-9ecd-f3c0d8349481"
      },
      "execution_count": 23,
      "outputs": [
        {
          "output_type": "stream",
          "name": "stdout",
          "text": [
            "Error invalid literal for int() with base 10: 'twenty'\n"
          ]
        }
      ]
    },
    {
      "cell_type": "code",
      "source": [
        "try:\n",
        "  res = \"100\"/20\n",
        "except ArithmeticError:\n",
        "  print(\"arithmetic problem\")\n",
        "except:\n",
        "  print(\"other problem\")"
      ],
      "metadata": {
        "colab": {
          "base_uri": "https://localhost:8080/"
        },
        "id": "49t94r_d5oKP",
        "outputId": "8f30061f-12ba-4a3b-9bae-82b8123909f0"
      },
      "execution_count": 24,
      "outputs": [
        {
          "output_type": "stream",
          "name": "stdout",
          "text": [
            "other problem\n"
          ]
        }
      ]
    },
    {
      "cell_type": "code",
      "source": [
        "def set(age):\n",
        "  if age < 0:\n",
        "    raise ValueError(\"age can't be negative\")\n",
        "  print(\"age set to {age}\")\n",
        "try:\n",
        "  set(-10)\n",
        "except ValueError as e:\n",
        "  print(e)"
      ],
      "metadata": {
        "colab": {
          "base_uri": "https://localhost:8080/"
        },
        "id": "SOvm6mKR6Tv7",
        "outputId": "1313c3c6-70de-4647-c575-58eda010c104"
      },
      "execution_count": 25,
      "outputs": [
        {
          "output_type": "stream",
          "name": "stdout",
          "text": [
            "age can't be negative\n"
          ]
        }
      ]
    },
    {
      "cell_type": "code",
      "source": [
        "# Base exception\n",
        "try:\n",
        "  raise BaseException(\"base exception\")\n",
        "except BaseException as e:\n",
        "  print(\"e\")"
      ],
      "metadata": {
        "colab": {
          "base_uri": "https://localhost:8080/"
        },
        "id": "psJGYYec61Yc",
        "outputId": "41928063-b862-42c4-efde-570b26b53aa3"
      },
      "execution_count": 26,
      "outputs": [
        {
          "output_type": "stream",
          "name": "stdout",
          "text": [
            "e\n"
          ]
        }
      ]
    },
    {
      "cell_type": "code",
      "source": [
        "try:\n",
        "  raise Exception(\"generic exception\")\n",
        "except Exception as e:\n",
        "  print(e)"
      ],
      "metadata": {
        "colab": {
          "base_uri": "https://localhost:8080/"
        },
        "id": "qcTx9omD7Wi4",
        "outputId": "6db255bc-34dc-41ce-cc05-11cf88059f83"
      },
      "execution_count": 27,
      "outputs": [
        {
          "output_type": "stream",
          "name": "stdout",
          "text": [
            "generic exception\n"
          ]
        }
      ]
    },
    {
      "cell_type": "code",
      "source": [
        "try:\n",
        "  raise ArithmeticError(\"it occurs\")\n",
        "except ArithmeticError as e:\n",
        "  print(e)"
      ],
      "metadata": {
        "colab": {
          "base_uri": "https://localhost:8080/"
        },
        "id": "KDjWMFcl7i3O",
        "outputId": "b42dcf48-6857-4a24-edcb-d591895bdf47"
      },
      "execution_count": 28,
      "outputs": [
        {
          "output_type": "stream",
          "name": "stdout",
          "text": [
            "it occurs\n"
          ]
        }
      ]
    },
    {
      "cell_type": "code",
      "source": [
        "try:\n",
        "  result = 10/0\n",
        "except ZeroDivisionError as e:\n",
        "  print(e)"
      ],
      "metadata": {
        "colab": {
          "base_uri": "https://localhost:8080/"
        },
        "id": "1Ykw7_Tp8yzb",
        "outputId": "97aa3e9c-d209-42a5-d3c5-bb5a751348b8"
      },
      "execution_count": 29,
      "outputs": [
        {
          "output_type": "stream",
          "name": "stdout",
          "text": [
            "division by zero\n"
          ]
        }
      ]
    },
    {
      "cell_type": "code",
      "source": [
        "import math\n",
        "try:\n",
        "  result = math.exp(1000)\n",
        "except OverflowError as e:\n",
        "  print(e)"
      ],
      "metadata": {
        "colab": {
          "base_uri": "https://localhost:8080/"
        },
        "id": "VFi6gZYx869g",
        "outputId": "b5896c5e-4057-4bc6-8115-3cd7414cacae"
      },
      "execution_count": 30,
      "outputs": [
        {
          "output_type": "stream",
          "name": "stdout",
          "text": [
            "math range error\n"
          ]
        }
      ]
    },
    {
      "cell_type": "code",
      "source": [
        "try:\n",
        "  assert 1 == 2, \"Assertion failed\"\n",
        "except AssertionError as e:\n",
        "  print(e)"
      ],
      "metadata": {
        "colab": {
          "base_uri": "https://localhost:8080/"
        },
        "id": "ndu4XyRnH3jO",
        "outputId": "57ca2e23-9f1d-47ca-c450-971cde73c79d"
      },
      "execution_count": 31,
      "outputs": [
        {
          "output_type": "stream",
          "name": "stdout",
          "text": [
            "Assertion failed\n"
          ]
        }
      ]
    },
    {
      "cell_type": "code",
      "source": [
        "class MyClass:\n",
        "  pass\n",
        "obj = MyClass()\n",
        "try:\n",
        "  obj.some_attribute\n",
        "except AttributeError as e:\n",
        "  print(e)"
      ],
      "metadata": {
        "colab": {
          "base_uri": "https://localhost:8080/"
        },
        "id": "PM0pPYNCITeG",
        "outputId": "48e08273-cee9-4baf-8623-ba3777e5bd47"
      },
      "execution_count": 32,
      "outputs": [
        {
          "output_type": "stream",
          "name": "stdout",
          "text": [
            "'MyClass' object has no attribute 'some_attribute'\n"
          ]
        }
      ]
    },
    {
      "cell_type": "code",
      "source": [
        "my_list = [1, 2, 3]\n",
        "try:\n",
        "  element = my_list[5]\n",
        "except IndexError as e:\n",
        "  print(e)"
      ],
      "metadata": {
        "colab": {
          "base_uri": "https://localhost:8080/"
        },
        "id": "yms1e27tIiEb",
        "outputId": "16ae2ec4-a0d5-4527-ef41-2767ded0ee24"
      },
      "execution_count": 33,
      "outputs": [
        {
          "output_type": "stream",
          "name": "stdout",
          "text": [
            "list index out of range\n"
          ]
        }
      ]
    },
    {
      "cell_type": "code",
      "source": [
        "d = {\"key\": \"value\"}\n",
        "try:\n",
        "  val = d[\"key2\"]\n",
        "except KeyError as e:\n",
        "  print(e)"
      ],
      "metadata": {
        "colab": {
          "base_uri": "https://localhost:8080/"
        },
        "id": "MR1z7EYKItGl",
        "outputId": "111a30c1-07c7-4e0e-b6f4-72cdd5958cd9"
      },
      "execution_count": 34,
      "outputs": [
        {
          "output_type": "stream",
          "name": "stdout",
          "text": [
            "'key2'\n"
          ]
        }
      ]
    },
    {
      "cell_type": "code",
      "source": [
        "try:\n",
        "  print(var)\n",
        "except NameError as e:\n",
        "  print(e)"
      ],
      "metadata": {
        "colab": {
          "base_uri": "https://localhost:8080/"
        },
        "id": "d64p0cHuJG2H",
        "outputId": "25c51da2-846f-4c0b-85cd-e4fc78cbe08f"
      },
      "execution_count": 35,
      "outputs": [
        {
          "output_type": "stream",
          "name": "stdout",
          "text": [
            "name 'var' is not defined\n"
          ]
        }
      ]
    },
    {
      "cell_type": "code",
      "source": [
        "try:\n",
        "  open(\"non_existent_file.txt\")\n",
        "except OSError as e:\n",
        "  print(e)"
      ],
      "metadata": {
        "colab": {
          "base_uri": "https://localhost:8080/"
        },
        "id": "VAYQU-xSJQbZ",
        "outputId": "d38624eb-377c-4d0f-8836-3556be9d0fd6"
      },
      "execution_count": 36,
      "outputs": [
        {
          "output_type": "stream",
          "name": "stdout",
          "text": [
            "[Errno 2] No such file or directory: 'non_existent_file.txt'\n"
          ]
        }
      ]
    },
    {
      "cell_type": "code",
      "source": [
        "try:\n",
        "  result = '2' + 2\n",
        "except TypeError as e:\n",
        "  print(e)"
      ],
      "metadata": {
        "colab": {
          "base_uri": "https://localhost:8080/"
        },
        "id": "GLip-B_PJbCC",
        "outputId": "643e70ef-4652-4ecb-be07-3b5f237c1bd0"
      },
      "execution_count": 37,
      "outputs": [
        {
          "output_type": "stream",
          "name": "stdout",
          "text": [
            "can only concatenate str (not \"int\") to str\n"
          ]
        }
      ]
    },
    {
      "cell_type": "code",
      "source": [
        "try:\n",
        "  res = int(\"abc\")\n",
        "except ValueError as e:\n",
        "  print(e)"
      ],
      "metadata": {
        "colab": {
          "base_uri": "https://localhost:8080/"
        },
        "id": "J1kzKFn4Jk5N",
        "outputId": "0993bdb4-d2ea-42d5-f9d6-026532f5972e"
      },
      "execution_count": 38,
      "outputs": [
        {
          "output_type": "stream",
          "name": "stdout",
          "text": [
            "invalid literal for int() with base 10: 'abc'\n"
          ]
        }
      ]
    },
    {
      "cell_type": "code",
      "source": [
        "try:\n",
        "  import mod\n",
        "except ImportError as e:\n",
        "  print(e)"
      ],
      "metadata": {
        "colab": {
          "base_uri": "https://localhost:8080/"
        },
        "id": "6zEfZFveJvrk",
        "outputId": "50ca4fe0-f194-4830-d903-333db282acb3"
      },
      "execution_count": 39,
      "outputs": [
        {
          "output_type": "stream",
          "name": "stdout",
          "text": [
            "No module named 'mod'\n"
          ]
        }
      ]
    },
    {
      "cell_type": "code",
      "source": [
        "try:\n",
        "  import module\n",
        "except ModuleNotFoundError as e:\n",
        "  print(e)"
      ],
      "metadata": {
        "colab": {
          "base_uri": "https://localhost:8080/"
        },
        "id": "8LZcF8igJ1aH",
        "outputId": "5ab2211e-ef53-4f97-f45f-7094069e88e8"
      },
      "execution_count": 40,
      "outputs": [
        {
          "output_type": "stream",
          "name": "stdout",
          "text": [
            "No module named 'module'\n"
          ]
        }
      ]
    },
    {
      "cell_type": "code",
      "source": [
        "try:\n",
        "  open(\"non_existent_file.txt\")\n",
        "except IOError as e:\n",
        "  print(e)"
      ],
      "metadata": {
        "colab": {
          "base_uri": "https://localhost:8080/"
        },
        "id": "wI55lNZnKNCD",
        "outputId": "45280e04-07a4-4976-cec8-d3a49c07e8e9"
      },
      "execution_count": 41,
      "outputs": [
        {
          "output_type": "stream",
          "name": "stdout",
          "text": [
            "[Errno 2] No such file or directory: 'non_existent_file.txt'\n"
          ]
        }
      ]
    },
    {
      "cell_type": "code",
      "source": [
        "try:\n",
        "  open(\"non_existent_file.txt\")\n",
        "except FileNotFoundError as e:\n",
        "  print(e)"
      ],
      "metadata": {
        "colab": {
          "base_uri": "https://localhost:8080/"
        },
        "id": "cNcHyK8xKVZE",
        "outputId": "609b5c3a-58b3-43c7-b41e-9dd627ece8a5"
      },
      "execution_count": 42,
      "outputs": [
        {
          "output_type": "stream",
          "name": "stdout",
          "text": [
            "[Errno 2] No such file or directory: 'non_existent_file.txt'\n"
          ]
        }
      ]
    },
    {
      "cell_type": "code",
      "source": [
        "my_iter = iter([1, 2, 3])\n",
        "try:\n",
        "  while True:\n",
        "    print(next(my_iter))\n",
        "except StopIteration as e:\n",
        "  print(\"end of iterator\")"
      ],
      "metadata": {
        "colab": {
          "base_uri": "https://localhost:8080/"
        },
        "id": "G4TS7IgBKfXi",
        "outputId": "2d723819-b69b-4995-a58b-3035f932fbce"
      },
      "execution_count": 43,
      "outputs": [
        {
          "output_type": "stream",
          "name": "stdout",
          "text": [
            "1\n",
            "2\n",
            "3\n",
            "end of iterator\n"
          ]
        }
      ]
    },
    {
      "cell_type": "code",
      "source": [
        "import sys\n",
        "try:\n",
        "  sys.exit()\n",
        "except SystemExit as e:\n",
        "  print(\"system exis called\")"
      ],
      "metadata": {
        "colab": {
          "base_uri": "https://localhost:8080/"
        },
        "id": "9Jb6PoboK7wy",
        "outputId": "459c8564-99d3-4905-9b9b-6ead4dffd67f"
      },
      "execution_count": 44,
      "outputs": [
        {
          "output_type": "stream",
          "name": "stdout",
          "text": [
            "system exis called\n"
          ]
        }
      ]
    },
    {
      "cell_type": "code",
      "source": [
        "class baseclass:\n",
        "  def some_method(self):\n",
        "    raise NotImplementedError(\"this method should be overridden\")\n",
        "try:\n",
        "  obj = baseclass()\n",
        "  obj.some_method()\n",
        "except NotImplementedError as e:\n",
        "  print(e)"
      ],
      "metadata": {
        "colab": {
          "base_uri": "https://localhost:8080/"
        },
        "id": "3XaSVyuvLPuK",
        "outputId": "11625265-f577-407a-aeee-f21b74c85682"
      },
      "execution_count": 45,
      "outputs": [
        {
          "output_type": "stream",
          "name": "stdout",
          "text": [
            "this method should be overridden\n"
          ]
        }
      ]
    },
    {
      "cell_type": "code",
      "source": [
        "try:\n",
        "  raise RuntimeError(\"runtime error occured\")\n",
        "except RuntimeError as e:\n",
        "  print(e)"
      ],
      "metadata": {
        "colab": {
          "base_uri": "https://localhost:8080/"
        },
        "id": "iPocrH5NMNI-",
        "outputId": "6e599f32-e0e6-460c-ffa7-cd99a8e292f6"
      },
      "execution_count": 46,
      "outputs": [
        {
          "output_type": "stream",
          "name": "stdout",
          "text": [
            "runtime error occured\n"
          ]
        }
      ]
    },
    {
      "cell_type": "code",
      "source": [
        "# User defined exception(These are created by defining a new class that inherits from Python's built-in Exception class or one of its subclasses)\n",
        "class InvalidAgeError(Exception):\n",
        "    def __init__(self, age, msg=\"Age must be between 0 and 100\"):\n",
        "        self.age = age\n",
        "        self.msg = msg\n",
        "        super().__init__(self.msg)\n",
        "    def __str__(self):\n",
        "        return f'{self.age} -> {self.msg}'\n",
        "\n",
        "# Using the custom exception\n",
        "def set_age(age):\n",
        "    if age < 0 or age > 100:\n",
        "        raise InvalidAgeError(age)\n",
        "    else:\n",
        "        print(f\"Age set to: {age}\")\n",
        "\n",
        "# Handling custom exception\n",
        "try:\n",
        "    set_age(150)\n",
        "except InvalidAgeError as e:\n",
        "    print(e)"
      ],
      "metadata": {
        "colab": {
          "base_uri": "https://localhost:8080/"
        },
        "id": "3i8XMbxYOPkS",
        "outputId": "8671f5d2-51a8-4669-9f67-997e8f2af23c"
      },
      "execution_count": 55,
      "outputs": [
        {
          "output_type": "stream",
          "name": "stdout",
          "text": [
            "150 -> Age must be between 0 and 100\n"
          ]
        }
      ]
    },
    {
      "cell_type": "code",
      "source": [
        "class NetworkError(RuntimeError):\n",
        "  def __init__(self, arg):\n",
        "    self.args = arg\n",
        "try:\n",
        "  raise NetworkError(\"Error\")\n",
        "except NetworkError as e:\n",
        "  print(e.args)"
      ],
      "metadata": {
        "colab": {
          "base_uri": "https://localhost:8080/"
        },
        "id": "soaPBl84Qrct",
        "outputId": "50ca1f7a-1fa7-42d5-b34f-7593ab59fc4e"
      },
      "execution_count": 58,
      "outputs": [
        {
          "output_type": "stream",
          "name": "stdout",
          "text": [
            "('E', 'r', 'r', 'o', 'r')\n"
          ]
        }
      ]
    }
  ]
}