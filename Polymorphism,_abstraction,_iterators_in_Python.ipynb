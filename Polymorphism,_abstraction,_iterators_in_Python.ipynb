{
  "nbformat": 4,
  "nbformat_minor": 0,
  "metadata": {
    "colab": {
      "provenance": [],
      "authorship_tag": "ABX9TyNxuWTtPC+nY5wOVFVaMOv1",
      "include_colab_link": true
    },
    "kernelspec": {
      "name": "python3",
      "display_name": "Python 3"
    },
    "language_info": {
      "name": "python"
    }
  },
  "cells": [
    {
      "cell_type": "markdown",
      "metadata": {
        "id": "view-in-github",
        "colab_type": "text"
      },
      "source": [
        "<a href=\"https://colab.research.google.com/github/kartiksharma2383/Python/blob/main/Polymorphism%2C_abstraction%2C_iterators_in_Python.ipynb\" target=\"_parent\"><img src=\"https://colab.research.google.com/assets/colab-badge.svg\" alt=\"Open In Colab\"/></a>"
      ]
    },
    {
      "cell_type": "code",
      "execution_count": 1,
      "metadata": {
        "colab": {
          "base_uri": "https://localhost:8080/"
        },
        "id": "9oqxLsp7zNX8",
        "outputId": "5dda85a3-7aa3-49e8-babc-0888ef6a8961"
      },
      "outputs": [
        {
          "output_type": "stream",
          "name": "stdout",
          "text": [
            "1\n",
            "2\n",
            "6\n",
            "24\n"
          ]
        }
      ],
      "source": [
        "# Polymorphism (Process to allow same method, function or operator to behave differently depending on object it is working with)\n",
        "# Types of polymorphism: Compile-time polymorphism, Runtime polymorphism (Overriding)\n",
        "# Compile time polymorphism (Process of deciding which method or operation to run during compilation, usually through method or operator overloading)\n",
        "class a:\n",
        "  def multiply(self, a=1, b=1, *args):\n",
        "    result = a * b\n",
        "    for num in args:\n",
        "      result *= num\n",
        "    return result\n",
        "A = a() # Object\n",
        "print(A.multiply()) # Using default argument\n",
        "print(A.multiply(2)) # Using default argument\n",
        "print(A.multiply(2, 3)) # Using multiple argument\n",
        "print(A.multiply(2, 3, 4)) # Using multiple argument"
      ]
    },
    {
      "cell_type": "code",
      "source": [
        "# Run time polymorphism (It means that the behavior of a method is decided while program is running, based on the object calling it, usually through method or operator overriding)\n",
        "class a:\n",
        "  def area(self):\n",
        "    return 0\n",
        "\n",
        "class square(a):\n",
        "  def __init__(self, side):\n",
        "    self.side = side\n",
        "\n",
        "  def area(self):\n",
        "    return self.side * self.side\n",
        "\n",
        "class circle(a):\n",
        "  def __init__(self, radius):\n",
        "    self.radius = radius\n",
        "\n",
        "  def area(self):\n",
        "    import math\n",
        "    return math.pi * self.radius * self.radius\n",
        "\n",
        "# Polymorphic behaviour\n",
        "b = [square(5), circle(3), a()]\n",
        "for a in b:\n",
        "  print(f\"Area: {a.area()}\")"
      ],
      "metadata": {
        "colab": {
          "base_uri": "https://localhost:8080/"
        },
        "id": "-IAD8bDp1kmR",
        "outputId": "8a083875-10e3-4d3d-9e1f-f040317bcf71"
      },
      "execution_count": 9,
      "outputs": [
        {
          "output_type": "stream",
          "name": "stdout",
          "text": [
            "Area: 25\n",
            "Area: 28.274333882308138\n",
            "Area: 0\n"
          ]
        }
      ]
    },
    {
      "cell_type": "code",
      "source": [
        "# Polymorphism in built-in functions\n",
        "print(len(\"hello\")) # String\n",
        "print(len([1, 2, 3])) # List\n",
        "print(max(1, 3, 2)) # Maximum of integers\n",
        "print(max(\"a\", \"z\", \"m\")) # Maximum of string"
      ],
      "metadata": {
        "colab": {
          "base_uri": "https://localhost:8080/"
        },
        "id": "DtAcouy-338b",
        "outputId": "cb7bb842-8259-4181-e490-8da5e9cb249d"
      },
      "execution_count": 10,
      "outputs": [
        {
          "output_type": "stream",
          "name": "stdout",
          "text": [
            "5\n",
            "3\n",
            "3\n",
            "z\n"
          ]
        }
      ]
    },
    {
      "cell_type": "code",
      "source": [
        "# Polymorphism in functions\n",
        "class Bird:\n",
        "    def action(self):\n",
        "        return \"Flying in the sky\"\n",
        "\n",
        "class Fish:\n",
        "    def action(self):\n",
        "        return \"Swimming in the water\"\n",
        "\n",
        "def observe_animal(animal):\n",
        "    print(animal.action())\n",
        "\n",
        "observe_animal(Bird())\n",
        "observe_animal(Fish())"
      ],
      "metadata": {
        "colab": {
          "base_uri": "https://localhost:8080/"
        },
        "id": "bIMAJKI74Fte",
        "outputId": "092da69e-1dd6-43fa-d660-581d9a8f97cb"
      },
      "execution_count": 11,
      "outputs": [
        {
          "output_type": "stream",
          "name": "stdout",
          "text": [
            "Flying in the sky\n",
            "Swimming in the water\n"
          ]
        }
      ]
    },
    {
      "cell_type": "code",
      "source": [
        "# Polymorphism in operators\n",
        "print(5 + 10)\n",
        "print(\"hello\" + \"world\")\n",
        "print([1, 2] + [3, 4])"
      ],
      "metadata": {
        "colab": {
          "base_uri": "https://localhost:8080/"
        },
        "id": "5ktxgsGw42ic",
        "outputId": "7937f665-d00a-4685-8a6a-4dfc8eab2d0d"
      },
      "execution_count": 12,
      "outputs": [
        {
          "output_type": "stream",
          "name": "stdout",
          "text": [
            "15\n",
            "helloworld\n",
            "[1, 2, 3, 4]\n"
          ]
        }
      ]
    },
    {
      "cell_type": "code",
      "source": [
        "from abc import ABC, abstractmethod\n",
        "\n",
        "class Greet(ABC):\n",
        "    @abstractmethod\n",
        "    def say_hello(self):\n",
        "        pass  # Abstract method\n",
        "\n",
        "class English(Greet):\n",
        "    def say_hello(self):\n",
        "        return \"Hello!\"\n",
        "\n",
        "g = English()\n",
        "print(g.say_hello())"
      ],
      "metadata": {
        "colab": {
          "base_uri": "https://localhost:8080/"
        },
        "id": "71Er6Wh98FAX",
        "outputId": "37efe24e-b27a-403f-d50b-93bd4c102ef9"
      },
      "execution_count": 15,
      "outputs": [
        {
          "output_type": "stream",
          "name": "stdout",
          "text": [
            "Hello!\n"
          ]
        }
      ]
    },
    {
      "cell_type": "code",
      "source": [
        "# Data abstraction (It is used to hide the implmentation details from the user and expose only necessary parts)\n",
        "# Abstract Base Class (ABC) is used to achieve data abstraction\n",
        "# Abstract classes are created using abc module and @abstractmethod decorator\n",
        "from abc import ABC, abstractmethod\n",
        "class Greet(ABC):\n",
        "  @abstractmethod\n",
        "  def say_hello(self):\n",
        "    pass # abstract method\n",
        "\n",
        "class English(Greet):\n",
        "  def say_hello(self):\n",
        "    return \"hello\"\n",
        "\n",
        "g = English()\n",
        "print(g.say_hello())"
      ],
      "metadata": {
        "colab": {
          "base_uri": "https://localhost:8080/"
        },
        "id": "nANiGvLC5RdR",
        "outputId": "41fa6375-9c0f-4940-96d2-2e0d9ca916c6"
      },
      "execution_count": 16,
      "outputs": [
        {
          "output_type": "stream",
          "name": "stdout",
          "text": [
            "hello\n"
          ]
        }
      ]
    },
    {
      "cell_type": "code",
      "source": [
        "# Abstract class has 4 components: abstract methods, concrete methods, abstract properties, class instantiation.\n",
        "# Abstract method (These r method declarations without a body defined inside an abstract class. They act as placeholders that force subclasses to provide their own specific implementation, ensuring consistent structure across derived classes)\n",
        "from abc import ABC, abstractmethod\n",
        "class vehicle(ABC):\n",
        "  @abstractmethod\n",
        "  def start(self):\n",
        "    pass\n",
        "    @abstractmethod\n",
        "    def stop(self):\n",
        "      pass\n",
        "\n",
        "class car(vehicle):\n",
        "  def start(self):\n",
        "    print(\"car engine started\")\n",
        "  def stop(self):\n",
        "    print(\"car engine stopped\")\n",
        "\n",
        "class motorcycle(vehicle):\n",
        "  def start(self):\n",
        "    print(\"motorcycle engine started\")\n",
        "  def stop(self):\n",
        "    print(\"motorcycle engine stopped\")\n",
        "\n",
        "# Create instances and call methods\n",
        "my_car = car()\n",
        "my_motorcycle = motorcycle()\n",
        "\n",
        "my_car.start()\n",
        "my_car.stop()\n",
        "\n",
        "my_motorcycle.start()\n",
        "my_motorcycle.stop()"
      ],
      "metadata": {
        "colab": {
          "base_uri": "https://localhost:8080/"
        },
        "id": "TrNnV9Vd92J1",
        "outputId": "3b208749-c5ef-479b-c1fd-235c70547b45"
      },
      "execution_count": 43,
      "outputs": [
        {
          "output_type": "stream",
          "name": "stdout",
          "text": [
            "car engine started\n",
            "car engine stopped\n",
            "motorcycle engine started\n",
            "motorcycle engine stopped\n"
          ]
        }
      ]
    },
    {
      "cell_type": "code",
      "source": [
        "# Concrete method (method that has a complete implementation (a defined body) and can be directly executed or inherited by subclasses)\n",
        "from abc import ABC, abstractmethod\n",
        "class Animal(ABC):\n",
        "  @abstractmethod\n",
        "  def make_sound(self): # Abstract method\n",
        "    pass\n",
        "\n",
        "  def sleep(self): # Concrete method\n",
        "    print(\"Sleeping\")\n",
        "\n",
        "class Dog(Animal):\n",
        "    def make_sound(self):\n",
        "        print(\"Bark\")\n",
        "\n",
        "dog = Dog()\n",
        "dog.make_sound()\n",
        "dog.sleep()"
      ],
      "metadata": {
        "colab": {
          "base_uri": "https://localhost:8080/"
        },
        "id": "41HbkFSr-b-l",
        "outputId": "7e94825a-65af-47cc-f58c-53bb16a90f32"
      },
      "execution_count": 26,
      "outputs": [
        {
          "output_type": "stream",
          "name": "stdout",
          "text": [
            "Bark\n",
            "Sleeping\n"
          ]
        }
      ]
    },
    {
      "cell_type": "code",
      "source": [
        "# Abstract properties (Properties that are declared but not implemented in an abstract class.)\n",
        "from abc import ABC, abstractmethod\n",
        "class shape(ABC):\n",
        "  @property\n",
        "  @abstractmethod\n",
        "  def area(self):\n",
        "    pass\n",
        "\n",
        "class circle(shape):\n",
        "  def __init__(self, radius):\n",
        "    self._radius = radius\n",
        "  @property\n",
        "  def area(self):\n",
        "     return 3.14 * self._radius * self._radius\n",
        "\n",
        "c = circle(5)\n",
        "print(c.area)"
      ],
      "metadata": {
        "colab": {
          "base_uri": "https://localhost:8080/"
        },
        "id": "l4BVG5iuAJWj",
        "outputId": "c9cb16e1-2442-4520-e8a7-911b94473436"
      },
      "execution_count": 33,
      "outputs": [
        {
          "output_type": "stream",
          "name": "stdout",
          "text": [
            "78.5\n"
          ]
        }
      ]
    },
    {
      "cell_type": "code",
      "source": [
        "# Abstract class instantiation (It means creating an object of an abstract class. It is not allowed, because an abstract class is incomplete and may contain abstract methods or properties. Only its concrete subclasses that implement all abstract members can be instantiated)\n",
        "from abc import ABC, abstractmethod\n",
        "class Vehicle(ABC):\n",
        "    @abstractmethod\n",
        "    def start(self):\n",
        "        pass\n",
        "    @abstractmethod\n",
        "    def stop(self):\n",
        "        pass\n",
        "\n",
        "class Car(Vehicle): # Concrete class\n",
        "    def start(self):\n",
        "        return \"Car engine started\"\n",
        "    def stop(self):\n",
        "        return \"Car engine stopped\"\n",
        "\n",
        "my_car = Car()\n",
        "print(my_car.start())\n",
        "print(my_car.stop())"
      ],
      "metadata": {
        "colab": {
          "base_uri": "https://localhost:8080/"
        },
        "id": "YLN7_r_JBWMQ",
        "outputId": "27b96291-523f-4b6a-e870-694d2ef1b83c"
      },
      "execution_count": 38,
      "outputs": [
        {
          "output_type": "stream",
          "name": "stdout",
          "text": [
            "Car engine started\n",
            "Car engine stopped\n"
          ]
        }
      ]
    },
    {
      "cell_type": "code",
      "source": [
        "# Iterators (It is an object used to traverse through all the elements of a collection (like lists, tuples, or dictionaries) one element at a time)\n",
        "# __iter__(): Returns the iterator object itself\n",
        "# __next__(): Returns the next value from the sequence\n",
        "s = \"hello\"\n",
        "it = iter(s)\n",
        "print(next(it))\n",
        "print(next(it))\n",
        "print(next(it))\n",
        "print(next(it))"
      ],
      "metadata": {
        "colab": {
          "base_uri": "https://localhost:8080/"
        },
        "id": "XRx8zEvHEqHO",
        "outputId": "1c118741-2606-4997-97aa-08defb916eb3"
      },
      "execution_count": 40,
      "outputs": [
        {
          "output_type": "stream",
          "name": "stdout",
          "text": [
            "h\n",
            "e\n",
            "l\n",
            "l\n"
          ]
        }
      ]
    },
    {
      "cell_type": "code",
      "source": [
        "# Custom iterator\n",
        "class even_num:\n",
        "  def __iter__(self):\n",
        "    self.n = 2\n",
        "    return self\n",
        "  def __next__(self):\n",
        "    x = self.n\n",
        "    self.n += 2\n",
        "    return x\n",
        "\n",
        "even = even_num()\n",
        "it = iter(even)\n",
        "\n",
        "print(next(it))\n",
        "print(next(it))\n",
        "print(next(it))\n",
        "print(next(it))\n",
        "print(next(it))"
      ],
      "metadata": {
        "colab": {
          "base_uri": "https://localhost:8080/"
        },
        "id": "fP7AiR2gFKs4",
        "outputId": "883f4889-c225-4321-9403-f134707cf0ac"
      },
      "execution_count": 41,
      "outputs": [
        {
          "output_type": "stream",
          "name": "stdout",
          "text": [
            "2\n",
            "4\n",
            "6\n",
            "8\n",
            "10\n"
          ]
        }
      ]
    },
    {
      "cell_type": "code",
      "source": [
        "# StopIteration exception (It occurs when there are no more items left to fetch from an iterator.)\n",
        "li = [100, 200, 300]\n",
        "it = iter(li)\n",
        "while True:\n",
        "  try:\n",
        "    print(next(it))\n",
        "  except StopIteration:\n",
        "    print(\"end of iteration\")\n",
        "    break"
      ],
      "metadata": {
        "colab": {
          "base_uri": "https://localhost:8080/"
        },
        "id": "pDJvvQp7F1s2",
        "outputId": "45dfed49-e671-4550-d602-8475b6018f4f"
      },
      "execution_count": 42,
      "outputs": [
        {
          "output_type": "stream",
          "name": "stdout",
          "text": [
            "100\n",
            "200\n",
            "300\n",
            "end of iteration\n"
          ]
        }
      ]
    }
  ]
}