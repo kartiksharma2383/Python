{
  "nbformat": 4,
  "nbformat_minor": 0,
  "metadata": {
    "colab": {
      "provenance": [],
      "authorship_tag": "ABX9TyOzWKnnoiM8w2bMe2MZUJFJ",
      "include_colab_link": true
    },
    "kernelspec": {
      "name": "python3",
      "display_name": "Python 3"
    },
    "language_info": {
      "name": "python"
    }
  },
  "cells": [
    {
      "cell_type": "markdown",
      "metadata": {
        "id": "view-in-github",
        "colab_type": "text"
      },
      "source": [
        "<a href=\"https://colab.research.google.com/github/kartiksharma2383/Python/blob/main/Counters%2C_OrderedDict%2C_defaultdict_in_Python.ipynb\" target=\"_parent\"><img src=\"https://colab.research.google.com/assets/colab-badge.svg\" alt=\"Open In Colab\"/></a>"
      ]
    },
    {
      "cell_type": "code",
      "source": [
        "# Counters(Used to count the occurrences of elements in an iterable or to count the frequency of items in a mapping)\n",
        "from collections import Counter\n",
        "val = [1, 2, 2, 3, 3, 3, 4, 4, 4, 4]\n",
        "ctr = Counter(val)\n",
        "print(ctr)"
      ],
      "metadata": {
        "colab": {
          "base_uri": "https://localhost:8080/"
        },
        "id": "Qg697wUN9VDm",
        "outputId": "f648f70a-3d17-41b1-d94b-f3ef5f27fd1b"
      },
      "execution_count": 40,
      "outputs": [
        {
          "output_type": "stream",
          "name": "stdout",
          "text": [
            "Counter({4: 4, 3: 3, 2: 2, 1: 1})\n"
          ]
        }
      ]
    },
    {
      "cell_type": "code",
      "source": [
        "from collections import Counter\n",
        "ctr1 = Counter([1, 2, 2, 3, 3, 3])\n",
        "ctr2 = Counter({1: 2, 2: 3, 3: 1})\n",
        "ctr3 = Counter(a=1, b=2, c=3)\n",
        "ctr4 = Counter(\"hello\")\n",
        "print(ctr1)\n",
        "print(ctr2)\n",
        "print(ctr3)\n",
        "print(ctr4)"
      ],
      "metadata": {
        "colab": {
          "base_uri": "https://localhost:8080/"
        },
        "id": "k_s5XBo29a7k",
        "outputId": "2cabb9b7-279e-49c9-e68a-2e4122b5ec57"
      },
      "execution_count": 41,
      "outputs": [
        {
          "output_type": "stream",
          "name": "stdout",
          "text": [
            "Counter({3: 3, 2: 2, 1: 1})\n",
            "Counter({2: 3, 1: 2, 3: 1})\n",
            "Counter({'c': 3, 'b': 2, 'a': 1})\n",
            "Counter({'l': 2, 'h': 1, 'e': 1, 'o': 1})\n"
          ]
        }
      ]
    },
    {
      "cell_type": "code",
      "source": [
        "from collections import Counter\n",
        "ctr = Counter([1, 2, 2, 3, 3, 3])\n",
        "print(ctr[1])\n",
        "print(ctr[2])\n",
        "print(ctr[3])\n",
        "print(ctr[4])"
      ],
      "metadata": {
        "colab": {
          "base_uri": "https://localhost:8080/"
        },
        "id": "eBDq5vsZ-DTg",
        "outputId": "c52e4e86-8cb9-4830-8144-18232231cd3f"
      },
      "execution_count": 43,
      "outputs": [
        {
          "output_type": "stream",
          "name": "stdout",
          "text": [
            "1\n",
            "2\n",
            "3\n",
            "0\n"
          ]
        }
      ]
    },
    {
      "cell_type": "code",
      "source": [
        "from collections import Counter\n",
        "ctr = Counter({1, 2, 2, 3, 3, 3})\n",
        "ctr.update([2, 3, 3, 3])\n",
        "print(ctr)"
      ],
      "metadata": {
        "colab": {
          "base_uri": "https://localhost:8080/"
        },
        "id": "MMvZUEwC-bsx",
        "outputId": "ba44d0e1-ff7d-4e1a-fec5-6496c678b096"
      },
      "execution_count": 44,
      "outputs": [
        {
          "output_type": "stream",
          "name": "stdout",
          "text": [
            "Counter({3: 4, 2: 2, 1: 1})\n"
          ]
        }
      ]
    },
    {
      "cell_type": "code",
      "source": [
        "from collections import Counter\n",
        "ctr = Counter([1, 2, 2, 3, 3, 3])\n",
        "items = list(ctr.elements())\n",
        "print(items)"
      ],
      "metadata": {
        "colab": {
          "base_uri": "https://localhost:8080/"
        },
        "id": "TQaEVKZ9-uEl",
        "outputId": "090dd325-735b-42f6-b31d-829321d84769"
      },
      "execution_count": 50,
      "outputs": [
        {
          "output_type": "stream",
          "name": "stdout",
          "text": [
            "[1, 2, 2, 3, 3, 3]\n"
          ]
        }
      ]
    },
    {
      "cell_type": "code",
      "source": [
        "from collections import Counter\n",
        "ctr = Counter([1, 2, 2, 3, 3, 3])\n",
        "common = ctr.most_common(3)\n",
        "print(common)"
      ],
      "metadata": {
        "colab": {
          "base_uri": "https://localhost:8080/"
        },
        "id": "SSczNm2vA9N6",
        "outputId": "d3adc31a-370d-4b0b-fa7b-d7ec6f6051dd"
      },
      "execution_count": 58,
      "outputs": [
        {
          "output_type": "stream",
          "name": "stdout",
          "text": [
            "[(3, 3), (2, 2), (1, 1)]\n"
          ]
        }
      ]
    },
    {
      "cell_type": "code",
      "source": [
        "from collections import Counter\n",
        "ctr = Counter([1, 2, 2, 3, 3, 3])\n",
        "ctr.subtract([2, 3, 3])\n",
        "print(ctr)"
      ],
      "metadata": {
        "colab": {
          "base_uri": "https://localhost:8080/"
        },
        "id": "oDL0FxqUBN_2",
        "outputId": "85292eb6-0c16-469b-c902-0d9419dbdad4"
      },
      "execution_count": 63,
      "outputs": [
        {
          "output_type": "stream",
          "name": "stdout",
          "text": [
            "Counter({1: 1, 2: 1, 3: 1})\n"
          ]
        }
      ]
    },
    {
      "cell_type": "code",
      "source": [
        "# OrderedDict (It remembers the order in which key r inserted)\n",
        "from collections import OrderedDict\n",
        "od = OrderedDict()\n",
        "od['a'] = 1\n",
        "od['b'] = 2\n",
        "od['c'] = 3\n",
        "print(list(od.items()))"
      ],
      "metadata": {
        "colab": {
          "base_uri": "https://localhost:8080/"
        },
        "id": "6V4Z8vYxBxHX",
        "outputId": "95fd3014-0574-4c50-d5b4-16e0b4133a5e"
      },
      "execution_count": 65,
      "outputs": [
        {
          "output_type": "stream",
          "name": "stdout",
          "text": [
            "[('a', 1), ('b', 2), ('c', 3)]\n"
          ]
        }
      ]
    },
    {
      "cell_type": "code",
      "source": [
        "from collections import OrderedDict\n",
        "print(\"dict\")\n",
        "d = {}\n",
        "d['a'] = 1\n",
        "d['b'] = 2\n",
        "d['c'] = 3\n",
        "d['d'] = 4\n",
        "for key, val in d.items():\n",
        "  print(key, val)\n",
        "print(\"Ordered dict\")\n",
        "od = OrderedDict()\n",
        "od['d'] = 1\n",
        "od['b'] = 2\n",
        "od['c'] = 3\n",
        "od['a'] = 1\n",
        "for key, val in od.items():\n",
        "  print(key, val)"
      ],
      "metadata": {
        "colab": {
          "base_uri": "https://localhost:8080/"
        },
        "id": "Q2HSu856Ce6p",
        "outputId": "742264cd-088f-4bd0-dc40-91a8dcd44707"
      },
      "execution_count": 66,
      "outputs": [
        {
          "output_type": "stream",
          "name": "stdout",
          "text": [
            "dict\n",
            "a 1\n",
            "b 2\n",
            "c 3\n",
            "d 4\n",
            "Ordered dict\n",
            "d 1\n",
            "b 2\n",
            "c 3\n",
            "a 1\n"
          ]
        }
      ]
    },
    {
      "cell_type": "code",
      "source": [
        "from collections import OrderedDict\n",
        "d = {'a':1, 'b':2, 'c':3, 'd':4}\n",
        "for k, v in d.items():\n",
        "  print(k, v)\n",
        "print(\"ordered dict:\")\n",
        "od = OrderedDict([('d', 4), ('b', 2), ('a', 1), ('c', 3)])\n",
        "for k, v in od.items():\n",
        "  print(k, v)"
      ],
      "metadata": {
        "colab": {
          "base_uri": "https://localhost:8080/"
        },
        "id": "PQ6VLyosDYi1",
        "outputId": "6935be8b-0ed9-42ce-8582-578744539bdb"
      },
      "execution_count": 67,
      "outputs": [
        {
          "output_type": "stream",
          "name": "stdout",
          "text": [
            "a 1\n",
            "b 2\n",
            "c 3\n",
            "d 4\n",
            "ordered dict:\n",
            "d 4\n",
            "b 2\n",
            "a 1\n",
            "c 3\n"
          ]
        }
      ]
    },
    {
      "cell_type": "code",
      "source": [
        "from collections import OrderedDict\n",
        "od = OrderedDict([('a', 1), ('b', 2), ('c', 3), ('d', 4)])\n",
        "od['c'] = 5\n",
        "for k, v in od.items():\n",
        "  print(k, v)"
      ],
      "metadata": {
        "colab": {
          "base_uri": "https://localhost:8080/"
        },
        "id": "bk-AXsbcD_Rn",
        "outputId": "3608f68e-5429-4628-945c-0025b7866080"
      },
      "execution_count": 70,
      "outputs": [
        {
          "output_type": "stream",
          "name": "stdout",
          "text": [
            "a 1\n",
            "b 2\n",
            "c 5\n",
            "d 4\n"
          ]
        }
      ]
    },
    {
      "cell_type": "code",
      "source": [
        "from collections import OrderedDict\n",
        "od1 = OrderedDict([('a', 1), ('b', 2), ('c', 3)])\n",
        "od2 = OrderedDict([('c', 3), ('b', 2), ('a', 1)])\n",
        "print(od1 == od2)"
      ],
      "metadata": {
        "colab": {
          "base_uri": "https://localhost:8080/"
        },
        "id": "wWbtgyzuGG4Z",
        "outputId": "5b66b7a2-eb96-4c50-ded4-7b9faf7f68c7"
      },
      "execution_count": 71,
      "outputs": [
        {
          "output_type": "stream",
          "name": "stdout",
          "text": [
            "False\n"
          ]
        }
      ]
    },
    {
      "cell_type": "code",
      "source": [
        "# Reversing an OrderedDict\n",
        "from collections import OrderedDict\n",
        "d1 = OrderedDict([('a', 1), ('b', 2), ('c', 3)])\n",
        "d2 = OrderedDict(reversed(list(d1.items())))\n",
        "for k, v in d2.items():\n",
        "  print(k, v)"
      ],
      "metadata": {
        "colab": {
          "base_uri": "https://localhost:8080/"
        },
        "id": "0eRCS8mgGfM6",
        "outputId": "6eba0bb6-e3c8-48bf-cdae-c07dc897d613"
      },
      "execution_count": 72,
      "outputs": [
        {
          "output_type": "stream",
          "name": "stdout",
          "text": [
            "c 3\n",
            "b 2\n",
            "a 1\n"
          ]
        }
      ]
    },
    {
      "cell_type": "code",
      "source": [
        "# Pop last or first item\n",
        "from collections import OrderedDict\n",
        "d = OrderedDict([('a', 1), ('b', 2), ('c', 3)])\n",
        "res = d.popitem(last = True) # Remove last inserted item\n",
        "print(res)"
      ],
      "metadata": {
        "colab": {
          "base_uri": "https://localhost:8080/"
        },
        "id": "ZTgcQHJpHKgl",
        "outputId": "38d06d74-e5b5-4769-8620-2ab4f90a348d"
      },
      "execution_count": 73,
      "outputs": [
        {
          "output_type": "stream",
          "name": "stdout",
          "text": [
            "('c', 3)\n"
          ]
        }
      ]
    },
    {
      "cell_type": "code",
      "source": [
        "# Move keys to front or end\n",
        "from collections import OrderedDict\n",
        "d = OrderedDict([('a', 1), ('b', 2), ('c', 3)])\n",
        "d.move_to_end('a') # Move 'a' to end\n",
        "d.move_to_end('b', last = False) # Move 'b' to front\n",
        "for k, v in d.items():\n",
        "  print(k, v)"
      ],
      "metadata": {
        "colab": {
          "base_uri": "https://localhost:8080/"
        },
        "id": "XlhQTjOiHake",
        "outputId": "eaa1e443-efaf-47cf-a816-f0d71874540c"
      },
      "execution_count": 74,
      "outputs": [
        {
          "output_type": "stream",
          "name": "stdout",
          "text": [
            "b 2\n",
            "c 3\n",
            "a 1\n"
          ]
        }
      ]
    },
    {
      "cell_type": "code",
      "source": [
        "# Deleting and re-inserting keys\n",
        "# Below code deletes the key 'c' from the OrderedDict, then prints the remaining items. After that, it re-inserts 'c' with its value at the end and prints all items again.\n",
        "from collections import OrderedDict\n",
        "od = OrderedDict([('a', 1), ('b', 2), ('c', 3), ('d', 4)])\n",
        "od.pop('c') # Delete 'c'\n",
        "for k, v in od.items():\n",
        "  print(k, v)\n",
        "od['c'] = 3\n",
        "for k, v in od.items():\n",
        "  print(k, v)"
      ],
      "metadata": {
        "colab": {
          "base_uri": "https://localhost:8080/"
        },
        "id": "ru0J8LhhITXL",
        "outputId": "1bb1a6c4-660e-4043-cfca-266c7bbd33cf"
      },
      "execution_count": 75,
      "outputs": [
        {
          "output_type": "stream",
          "name": "stdout",
          "text": [
            "a 1\n",
            "b 2\n",
            "d 4\n",
            "a 1\n",
            "b 2\n",
            "d 4\n",
            "c 3\n"
          ]
        }
      ]
    },
    {
      "cell_type": "code",
      "source": [
        "# Defaultdict (It is used to provide a default value for a nonexistent key in the dictionary, eliminating the need for checking if the key exists before using it)\n",
        "from collections import defaultdict\n",
        "d = defaultdict(list)\n",
        "d['fruits'].append('apple')\n",
        "d['vegitables'].append('carrot')\n",
        "print(d)\n",
        "print(d['juices'])"
      ],
      "metadata": {
        "colab": {
          "base_uri": "https://localhost:8080/"
        },
        "id": "PP7hmAUjI0Lf",
        "outputId": "e0ee9749-0733-4949-e248-7669cf43c804"
      },
      "execution_count": 76,
      "outputs": [
        {
          "output_type": "stream",
          "name": "stdout",
          "text": [
            "defaultdict(<class 'list'>, {'fruits': ['apple'], 'vegitables': ['carrot']})\n",
            "[]\n"
          ]
        }
      ]
    },
    {
      "cell_type": "code",
      "source": [
        "# Default factory(It is a function returning the default value for the dictionary defined. If this argument is absent then the dictionary raises a KeyError)\n",
        "from collections import defaultdict\n",
        "d = defaultdict(lambda: \"not present\")\n",
        "d[\"a\"] = 1\n",
        "d[\"b\"] = 2\n",
        "print(d[\"a\"])\n",
        "print(d[\"b\"])\n",
        "print(d[\"c\"])"
      ],
      "metadata": {
        "colab": {
          "base_uri": "https://localhost:8080/"
        },
        "id": "w0OoCsJVKIp6",
        "outputId": "f9ee1c57-8756-43fb-fd9d-7975642616d6"
      },
      "execution_count": 77,
      "outputs": [
        {
          "output_type": "stream",
          "name": "stdout",
          "text": [
            "1\n",
            "2\n",
            "not present\n"
          ]
        }
      ]
    }
  ]
}