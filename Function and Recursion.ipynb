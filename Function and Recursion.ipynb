{
  "nbformat": 4,
  "nbformat_minor": 0,
  "metadata": {
    "colab": {
      "provenance": [],
      "include_colab_link": true
    },
    "kernelspec": {
      "name": "python3",
      "display_name": "Python 3"
    },
    "language_info": {
      "name": "python"
    }
  },
  "cells": [
    {
      "cell_type": "markdown",
      "metadata": {
        "id": "view-in-github",
        "colab_type": "text"
      },
      "source": [
        "<a href=\"https://colab.research.google.com/github/kartiksharma2383/Python/blob/main/Function%20and%20Recursion.ipynb\" target=\"_parent\"><img src=\"https://colab.research.google.com/assets/colab-badge.svg\" alt=\"Open In Colab\"/></a>"
      ]
    },
    {
      "cell_type": "code",
      "source": [
        "# Functions\n",
        "def evenodd(x):\n",
        "  if(x%2 == 0):\n",
        "    return \"Even\"\n",
        "  else:\n",
        "    return \"Odd\"\n",
        "print(evenodd(16))\n",
        "print(evenodd(7))"
      ],
      "metadata": {
        "colab": {
          "base_uri": "https://localhost:8080/"
        },
        "id": "ZXdWsGZd-5sP",
        "outputId": "91717062-e216-44e8-9316-6d972795f129"
      },
      "execution_count": null,
      "outputs": [
        {
          "output_type": "stream",
          "name": "stdout",
          "text": [
            "Even\n",
            "Odd\n"
          ]
        }
      ]
    },
    {
      "cell_type": "code",
      "source": [
        "# Types of function arguments: Default argument, keyword argument, positional argument, arbitrary arguments\n",
        "# Default arguments\n",
        "def fun(x, y = 50):\n",
        "  print(\"x: \", x)\n",
        "  print(\"y: \", y)\n",
        "  return\n",
        "fun(10)\n",
        "fun(70, 100)"
      ],
      "metadata": {
        "colab": {
          "base_uri": "https://localhost:8080/"
        },
        "id": "tQ-lpJWn-snm",
        "outputId": "31715e3c-c28e-4bf5-bb6b-3fadcd6b63d0"
      },
      "execution_count": null,
      "outputs": [
        {
          "output_type": "stream",
          "name": "stdout",
          "text": [
            "x:  10\n",
            "y:  50\n",
            "x:  70\n",
            "y:  100\n"
          ]
        }
      ]
    },
    {
      "cell_type": "code",
      "source": [
        "# Keyword arguments\n",
        "def fun(a, b):\n",
        "  print(a, b)\n",
        "fun(a=1, b=2)\n",
        "fun(a=3, b=4)"
      ],
      "metadata": {
        "colab": {
          "base_uri": "https://localhost:8080/"
        },
        "id": "uU_CL1BNABXE",
        "outputId": "547d473e-3602-44d1-d983-745e2699999f"
      },
      "execution_count": null,
      "outputs": [
        {
          "output_type": "stream",
          "name": "stdout",
          "text": [
            "1 2\n",
            "3 4\n"
          ]
        }
      ]
    },
    {
      "cell_type": "code",
      "source": [
        "# Postional Arguments\n",
        "def fun(name, age):\n",
        " print('hi', name)\n",
        " print('my age is', age)\n",
        "print('case 1:')\n",
        "fun('k', 20)\n",
        "print('case 2:')\n",
        "fun('d', 25)"
      ],
      "metadata": {
        "colab": {
          "base_uri": "https://localhost:8080/"
        },
        "id": "SnsJcRHXAk0P",
        "outputId": "cb3b521d-bcd1-4aa5-c736-0d1c8f9048ca"
      },
      "execution_count": null,
      "outputs": [
        {
          "output_type": "stream",
          "name": "stdout",
          "text": [
            "case 1:\n",
            "hi k\n",
            "my age is 20\n",
            "case 2:\n",
            "hi d\n",
            "my age is 25\n"
          ]
        }
      ]
    },
    {
      "cell_type": "code",
      "source": [
        "# Arbitary keyword argument\n",
        "# *args in Python (Non-Keyword Arguments)\n",
        "def fun(*argv):\n",
        "  for arg in argv:\n",
        "    print(arg)\n",
        "fun('hello', 'guys')"
      ],
      "metadata": {
        "colab": {
          "base_uri": "https://localhost:8080/"
        },
        "id": "GoLv2sNnBcxP",
        "outputId": "a3fcda93-6b70-44e5-a9a0-2f152a031448"
      },
      "execution_count": null,
      "outputs": [
        {
          "output_type": "stream",
          "name": "stdout",
          "text": [
            "hello\n",
            "guys\n"
          ]
        }
      ]
    },
    {
      "cell_type": "code",
      "source": [
        "def fun(*args):\n",
        "    return sum(args)\n",
        "print(fun(1, 2, 3, 4))\n",
        "print(fun(5, 10, 15))"
      ],
      "metadata": {
        "colab": {
          "base_uri": "https://localhost:8080/"
        },
        "id": "engcYDZ9UOp-",
        "outputId": "1468001b-1111-4a78-bd54-3d1e49e92610"
      },
      "execution_count": null,
      "outputs": [
        {
          "output_type": "stream",
          "name": "stdout",
          "text": [
            "10\n",
            "30\n"
          ]
        }
      ]
    },
    {
      "cell_type": "code",
      "source": [
        "def number_args(*number):\n",
        "  print(number[0] * number[1])\n",
        "number_args(5, 6, 1, 2, 8)"
      ],
      "metadata": {
        "colab": {
          "base_uri": "https://localhost:8080/"
        },
        "id": "o1oApK005Q1k",
        "outputId": "54a5be38-d4b9-4f32-8c06-10dfc6a8d0c3"
      },
      "execution_count": null,
      "outputs": [
        {
          "output_type": "stream",
          "name": "stdout",
          "text": [
            "30\n"
          ]
        }
      ]
    },
    {
      "cell_type": "code",
      "source": [
        "def number_squared_cust(number,power):\n",
        "  print(number**power)\n",
        "number_squared_cust(5,3)"
      ],
      "metadata": {
        "colab": {
          "base_uri": "https://localhost:8080/"
        },
        "id": "18pF_XHb5sMZ",
        "outputId": "30d8b7ce-096e-4d11-c20c-9d9c6be32a04"
      },
      "execution_count": null,
      "outputs": [
        {
          "output_type": "stream",
          "name": "stdout",
          "text": [
            "125\n"
          ]
        }
      ]
    },
    {
      "cell_type": "code",
      "source": [
        "def number_squared_cust(number,power):\n",
        "  print(number**power)\n",
        "number_squared_cust(power = 5, number = 3)"
      ],
      "metadata": {
        "colab": {
          "base_uri": "https://localhost:8080/"
        },
        "id": "-CfDpCnI5q5q",
        "outputId": "4cec9f2a-9990-422b-f2a7-b5965d72202d"
      },
      "execution_count": null,
      "outputs": [
        {
          "output_type": "stream",
          "name": "stdout",
          "text": [
            "243\n"
          ]
        }
      ]
    },
    {
      "cell_type": "code",
      "source": [
        "args_tuple = (5,6,1,2,8)\n",
        "def number_args(*number):\n",
        "  print(number[0] * number[1])\n",
        "number_args(*args_tuple)"
      ],
      "metadata": {
        "colab": {
          "base_uri": "https://localhost:8080/"
        },
        "id": "xLTe7R1l5c5O",
        "outputId": "467e8969-8d9f-44a8-9077-53846869db65"
      },
      "execution_count": null,
      "outputs": [
        {
          "output_type": "stream",
          "name": "stdout",
          "text": [
            "30\n"
          ]
        }
      ]
    },
    {
      "cell_type": "code",
      "source": [
        "def fun(arg1, *argv):\n",
        "  print(\"first argument:\", arg1)\n",
        "  for arg in argv:\n",
        "    print(\"Argument *argv:\", arg)\n",
        "fun('hello', 'hi', 'guys')"
      ],
      "metadata": {
        "colab": {
          "base_uri": "https://localhost:8080/"
        },
        "id": "R5McfIcDUiBV",
        "outputId": "05f893b6-0e80-49c9-e0ba-50a790546fec"
      },
      "execution_count": null,
      "outputs": [
        {
          "output_type": "stream",
          "name": "stdout",
          "text": [
            "first argument: hello\n",
            "Argument *argv: hi\n",
            "Argument *argv: guys\n"
          ]
        }
      ]
    },
    {
      "cell_type": "code",
      "source": [
        "# Variable length keyword arguments\n",
        "# **kwargs in Python (Keyword Arguments)\n",
        "def fun(**kwargs):\n",
        "  for key, value in kwargs.items():\n",
        "    print(\"%s == %s\" % (key, value))\n",
        "fun(first = 'hi', mid = 'hello', last = 'guys')"
      ],
      "metadata": {
        "colab": {
          "base_uri": "https://localhost:8080/"
        },
        "id": "i8tk5lhZCRXY",
        "outputId": "8db09156-3eef-483f-dc7d-17021eb906d0"
      },
      "execution_count": null,
      "outputs": [
        {
          "output_type": "stream",
          "name": "stdout",
          "text": [
            "first == hi\n",
            "mid == hello\n",
            "last == guys\n"
          ]
        }
      ]
    },
    {
      "cell_type": "code",
      "source": [
        "def number_kwarg(**number):\n",
        "  print('number: ' + number['integer'] + ' other number: ' + number['integer2'])\n",
        "number_kwarg(integer = '2309', integer2 = '349')"
      ],
      "metadata": {
        "colab": {
          "base_uri": "https://localhost:8080/"
        },
        "id": "8cXI_YH151CB",
        "outputId": "cc488652-fca5-47db-fee4-9c870074621b"
      },
      "execution_count": null,
      "outputs": [
        {
          "output_type": "stream",
          "name": "stdout",
          "text": [
            "number: 2309 other number: 349\n"
          ]
        }
      ]
    },
    {
      "cell_type": "code",
      "source": [
        "def fun(**kwargs):\n",
        "    for k, val in kwargs.items():\n",
        "        print(k, val)\n",
        "fun(a=1, b=2, c=3)"
      ],
      "metadata": {
        "colab": {
          "base_uri": "https://localhost:8080/"
        },
        "id": "nk6YpFW1USOQ",
        "outputId": "2bc8d7ea-dc28-4a4c-c4a2-476fd05a150c"
      },
      "execution_count": null,
      "outputs": [
        {
          "output_type": "stream",
          "name": "stdout",
          "text": [
            "a 1\n",
            "b 2\n",
            "c 3\n"
          ]
        }
      ]
    },
    {
      "cell_type": "code",
      "source": [
        "def fun(*args, **kwargs):\n",
        "  print(\"args: \", args)\n",
        "  print(\"kwargs: \", kwargs)\n",
        "fun('hello', 'guys', a = '1', b = '2')"
      ],
      "metadata": {
        "colab": {
          "base_uri": "https://localhost:8080/"
        },
        "id": "GHKvzApcV3bz",
        "outputId": "af01e693-0e3c-4599-c472-f4827d0e1ec4"
      },
      "execution_count": null,
      "outputs": [
        {
          "output_type": "stream",
          "name": "stdout",
          "text": [
            "args:  ('hello', 'guys')\n",
            "kwargs:  {'a': '1', 'b': '2'}\n"
          ]
        }
      ]
    },
    {
      "cell_type": "code",
      "source": [
        "# Docstring (The first string after the function is called the Document string or Docstring in short. This is used to describe the functionality of the function.)\n",
        "def evenodd(x):\n",
        "  \"hi, hello\"\n",
        "  if(x%2 == 0):\n",
        "   print(\"even\")\n",
        "  else:\n",
        "   print(\"odd\")\n",
        "print(evenodd.__doc__)"
      ],
      "metadata": {
        "colab": {
          "base_uri": "https://localhost:8080/"
        },
        "id": "QkYLxnoyEWPC",
        "outputId": "e25de3e0-f2cc-41ed-b6f7-96acb8ca579f"
      },
      "execution_count": null,
      "outputs": [
        {
          "output_type": "stream",
          "name": "stdout",
          "text": [
            "hi, hello\n"
          ]
        }
      ]
    },
    {
      "cell_type": "code",
      "source": [
        "# Inner function or nested function : Function that is defined inside another function is known as the inner function or nested function.\n",
        "def f1():\n",
        "  s = 'hi'\n",
        "  def f2():\n",
        "    print(s)\n",
        "  f2()\n",
        "f1()"
      ],
      "metadata": {
        "colab": {
          "base_uri": "https://localhost:8080/"
        },
        "id": "WmSOF8WMEgVF",
        "outputId": "dc6b1e89-fa56-4140-aeb2-4d53bf8ce71e"
      },
      "execution_count": null,
      "outputs": [
        {
          "output_type": "stream",
          "name": "stdout",
          "text": [
            "hi\n"
          ]
        }
      ]
    },
    {
      "cell_type": "code",
      "source": [
        "# Anonymous function : It is a function without a name.\n",
        "def cube(x): return x*x*x # with lambda\n",
        "cube_l = lambda x: x*x*x # without lambda\n",
        "print(cube(7))\n",
        "print(cube_l(7))"
      ],
      "metadata": {
        "colab": {
          "base_uri": "https://localhost:8080/"
        },
        "id": "MfHRbhPqE50v",
        "outputId": "05ecb42f-a786-45c1-aab2-11a27eaf183c"
      },
      "execution_count": null,
      "outputs": [
        {
          "output_type": "stream",
          "name": "stdout",
          "text": [
            "343\n",
            "343\n"
          ]
        }
      ]
    },
    {
      "cell_type": "code",
      "source": [
        "# return statement\n",
        "def square_value(num):\n",
        "  return num**2\n",
        "print(square_value(2))\n",
        "print(square_value(3))"
      ],
      "metadata": {
        "colab": {
          "base_uri": "https://localhost:8080/"
        },
        "id": "FCPMnr7VF0Mk",
        "outputId": "c4688b6e-1dfd-4504-e5ff-3f76a6bc3f94"
      },
      "execution_count": null,
      "outputs": [
        {
          "output_type": "stream",
          "name": "stdout",
          "text": [
            "4\n",
            "9\n"
          ]
        }
      ]
    },
    {
      "cell_type": "code",
      "source": [
        "# pass by reference and pass by value\n",
        "def f(x):\n",
        "  x[0] = 20\n",
        "list = [10,11,12]\n",
        "f(list)\n",
        "print(list)"
      ],
      "metadata": {
        "colab": {
          "base_uri": "https://localhost:8080/"
        },
        "id": "i1NzqLLlGNlE",
        "outputId": "9c1157bf-4568-4698-84fb-be2cbe709447"
      },
      "execution_count": null,
      "outputs": [
        {
          "output_type": "stream",
          "name": "stdout",
          "text": [
            "[20, 11, 12]\n"
          ]
        }
      ]
    },
    {
      "cell_type": "code",
      "source": [
        "# When we pass a reference and change the received reference to something else, the connection between the passed and received parameters is broken.\n",
        "def f(x):\n",
        "  x = [10,11,12]\n",
        "list = [10,20,30]\n",
        "f(list)\n",
        "print(list)"
      ],
      "metadata": {
        "colab": {
          "base_uri": "https://localhost:8080/"
        },
        "id": "dtB2TR2IGkPZ",
        "outputId": "42399488-8f41-47ee-87d2-68924c5e27ca"
      },
      "execution_count": null,
      "outputs": [
        {
          "output_type": "stream",
          "name": "stdout",
          "text": [
            "[10, 20, 30]\n"
          ]
        }
      ]
    },
    {
      "cell_type": "code",
      "source": [
        "def f(x):\n",
        "  x = 10\n",
        "x = 20\n",
        "f(x)\n",
        "print(x)"
      ],
      "metadata": {
        "colab": {
          "base_uri": "https://localhost:8080/"
        },
        "id": "q1xXt0CZG2FB",
        "outputId": "75afbdf1-877b-4475-bfe0-4788825ffec5"
      },
      "execution_count": null,
      "outputs": [
        {
          "output_type": "stream",
          "name": "stdout",
          "text": [
            "20\n"
          ]
        }
      ]
    },
    {
      "cell_type": "code",
      "source": [
        "def swap(x ,y):\n",
        "  temp = x\n",
        "  x = y\n",
        "  y = temp\n",
        "x = 2\n",
        "y = 3\n",
        "swap(x, y)\n",
        "print(x)\n",
        "print(y)"
      ],
      "metadata": {
        "colab": {
          "base_uri": "https://localhost:8080/"
        },
        "id": "0-yiHps3HH-l",
        "outputId": "910f42d1-936f-46f5-a6b9-ac392efb8df8"
      },
      "execution_count": null,
      "outputs": [
        {
          "output_type": "stream",
          "name": "stdout",
          "text": [
            "2\n",
            "3\n"
          ]
        }
      ]
    },
    {
      "cell_type": "code",
      "source": [
        "# Pass keyword in function\n",
        "def f():\n",
        "  pass\n",
        "  f()\n",
        "print(\"function executed\")"
      ],
      "metadata": {
        "colab": {
          "base_uri": "https://localhost:8080/"
        },
        "id": "Dk1W5aSZH3EN",
        "outputId": "ab73368b-d77c-4122-c9a6-c8b13dc4a66c"
      },
      "execution_count": null,
      "outputs": [
        {
          "output_type": "stream",
          "name": "stdout",
          "text": [
            "function executed\n"
          ]
        }
      ]
    },
    {
      "cell_type": "code",
      "source": [
        "# =(single equals to sign) is the assignment statement, it assign the value\n",
        "# ==(double equals to sign) is the comparasion statement, it checks if the value is equal to given value\n",
        "for i in range(5):\n",
        "  if i == 3:\n",
        "    pass\n",
        "  else:\n",
        "      print(i)"
      ],
      "metadata": {
        "colab": {
          "base_uri": "https://localhost:8080/"
        },
        "id": "p5HpM0HwKJxU",
        "outputId": "ecb54e6d-4ab1-4cfb-9150-02104d09ae02"
      },
      "execution_count": null,
      "outputs": [
        {
          "output_type": "stream",
          "name": "stdout",
          "text": [
            "0\n",
            "1\n",
            "2\n",
            "4\n"
          ]
        }
      ]
    },
    {
      "cell_type": "code",
      "source": [
        "# pass in classes\n",
        "class emptyclass:\n",
        "  pass\n",
        "  class person:\n",
        "    def __init__(self, name, age):\n",
        "      self.name = name\n",
        "      self.age = age\n",
        "p1 = emptyclass.person(\"John\", 36)\n",
        "print(p1.name)\n",
        "print(p1.age)"
      ],
      "metadata": {
        "colab": {
          "base_uri": "https://localhost:8080/"
        },
        "id": "7zUjGxxzLDBY",
        "outputId": "b5906882-6f26-4005-aa8a-b973d3c7bdba"
      },
      "execution_count": null,
      "outputs": [
        {
          "output_type": "stream",
          "name": "stdout",
          "text": [
            "John\n",
            "36\n"
          ]
        }
      ]
    },
    {
      "cell_type": "code",
      "source": [
        "# Local variables\n",
        "def f():\n",
        "  msg = \"Hi\"\n",
        "  print(msg)\n",
        "f()"
      ],
      "metadata": {
        "colab": {
          "base_uri": "https://localhost:8080/"
        },
        "id": "27PgBYxeM2wg",
        "outputId": "b9d0dc3f-7f6f-497c-a171-7a4b44e51367"
      },
      "execution_count": null,
      "outputs": [
        {
          "output_type": "stream",
          "name": "stdout",
          "text": [
            "Hi\n"
          ]
        }
      ]
    },
    {
      "cell_type": "code",
      "source": [
        "# Global variables\n",
        "msg = 'Hi'\n",
        "def display():\n",
        "  print(\"Inside function:\", msg)\n",
        "display()\n",
        "print(\"Outside function:\", msg)"
      ],
      "metadata": {
        "colab": {
          "base_uri": "https://localhost:8080/"
        },
        "id": "xhIdWvR6NEdX",
        "outputId": "3ab713a1-6e40-4bf7-fc06-86763d886461"
      },
      "execution_count": null,
      "outputs": [
        {
          "output_type": "stream",
          "name": "stdout",
          "text": [
            "Inside function: Hi\n",
            "Outside function: Hi\n"
          ]
        }
      ]
    },
    {
      "cell_type": "code",
      "source": [
        "def fun():\n",
        "  print(\"Inside fun\", s)\n",
        "s = \"hi\"\n",
        "fun()\n",
        "print(\"Outside fun\", s)"
      ],
      "metadata": {
        "colab": {
          "base_uri": "https://localhost:8080/"
        },
        "id": "vf0LgTVeNXmd",
        "outputId": "9961c7ee-b73c-4b30-8919-febfdcac4eaf"
      },
      "execution_count": null,
      "outputs": [
        {
          "output_type": "stream",
          "name": "stdout",
          "text": [
            "Inside fun hi\n",
            "Outside fun hi\n"
          ]
        }
      ]
    },
    {
      "cell_type": "code",
      "source": [
        "# Modifying global vairables inside the function\n",
        "def fun():\n",
        "  global s\n",
        "  s += 'hi'\n",
        "  print(s)\n",
        "  s = 'hello'\n",
        "  print(s)\n",
        "s = 'guys'\n",
        "fun()\n",
        "print(s)"
      ],
      "metadata": {
        "colab": {
          "base_uri": "https://localhost:8080/"
        },
        "id": "TXmd_EfeNthD",
        "outputId": "c1cb2358-f9f3-4df6-be82-1614dc0e7432"
      },
      "execution_count": null,
      "outputs": [
        {
          "output_type": "stream",
          "name": "stdout",
          "text": [
            "guyshi\n",
            "hello\n",
            "hello\n"
          ]
        }
      ]
    },
    {
      "cell_type": "code",
      "source": [
        "# f() prints the global a without changing it.\n",
        "# g() creates a local a that shadows the global one, leaving the global a unchanged.\n",
        "# h() uses global to modify the global a.\n",
        "# Only h() changes the global variable, f() and g() do not.\n",
        "a = 1\n",
        "def f():\n",
        "  print('f():', a)\n",
        "def g():\n",
        "  a = 2\n",
        "  print('g():', a)\n",
        "def h():\n",
        "  global a\n",
        "  a = 3\n",
        "  print('h():', a)\n",
        "\n",
        "print('global:', a)\n",
        "f()\n",
        "print('global:', a)\n",
        "g()\n",
        "print('global:', a)\n",
        "h()\n",
        "print('global:', a)"
      ],
      "metadata": {
        "colab": {
          "base_uri": "https://localhost:8080/"
        },
        "id": "8l4_fLmROKE5",
        "outputId": "4650674c-eb08-42f6-d1ab-d916ae5059ce"
      },
      "execution_count": null,
      "outputs": [
        {
          "output_type": "stream",
          "name": "stdout",
          "text": [
            "global: 1\n",
            "f(): 1\n",
            "global: 1\n",
            "g(): 2\n",
            "global: 1\n",
            "h(): 3\n",
            "global: 3\n"
          ]
        }
      ]
    },
    {
      "cell_type": "code",
      "source": [
        "# Recursive function: It refers to when a function calls itself.\n",
        "def factorial(n):\n",
        "  if n == 0:\n",
        "    return 1\n",
        "  else:\n",
        "      return n * factorial(n-1)\n",
        "print(factorial(3))"
      ],
      "metadata": {
        "colab": {
          "base_uri": "https://localhost:8080/"
        },
        "id": "j5wpxGu_PHQf",
        "outputId": "4a091064-e840-4260-b6d5-b48e1eab8e19"
      },
      "execution_count": null,
      "outputs": [
        {
          "output_type": "stream",
          "name": "stdout",
          "text": [
            "6\n"
          ]
        }
      ]
    },
    {
      "cell_type": "code",
      "source": [
        "def fibonacci(n):\n",
        "  if n == 0:\n",
        "    return 0\n",
        "  elif n == 1:\n",
        "    return 1\n",
        "  else:\n",
        "    return fibonacci(n-1) + fibonacci(n-2)\n",
        "print(fibonacci(10))"
      ],
      "metadata": {
        "colab": {
          "base_uri": "https://localhost:8080/"
        },
        "id": "m0AdQo8eSc8S",
        "outputId": "b5367534-f03f-4880-926f-c1f17a421acf"
      },
      "execution_count": null,
      "outputs": [
        {
          "output_type": "stream",
          "name": "stdout",
          "text": [
            "55\n"
          ]
        }
      ]
    },
    {
      "cell_type": "code",
      "source": [
        "# Types of recursion:\n",
        "# Tail Recursion: The recursive call is the last thing the function does, so nothing happens after it returns.\n",
        "# Non-Tail Recursion: The function does more work after the recursive call returns, so it can’t be optimized into a loop.\n",
        "def tail_fact(n, acc = 1):\n",
        "  if n == 0:\n",
        "    return acc\n",
        "  else:\n",
        "    return tail_fact(n-1, acc * n)\n",
        "def nontail_fact(n):\n",
        "  if n == 1:\n",
        "    return 1\n",
        "  else:\n",
        "    return n * nontail_fact(n-1)\n",
        "print(tail_fact(5))\n",
        "print(nontail_fact(5))"
      ],
      "metadata": {
        "colab": {
          "base_uri": "https://localhost:8080/"
        },
        "id": "_N71gKcZShK2",
        "outputId": "0c57baec-0064-48c6-891d-0d089e711300"
      },
      "execution_count": null,
      "outputs": [
        {
          "output_type": "stream",
          "name": "stdout",
          "text": [
            "120\n",
            "120\n"
          ]
        }
      ]
    },
    {
      "cell_type": "code",
      "source": [
        "# Lambda function\n",
        "s1 = 'hi'\n",
        "s2 = lambda func: func.upper()\n",
        "s3 = lambda func: func.lower()\n",
        "print(s2(s1))\n",
        "print(s3(s1))"
      ],
      "metadata": {
        "colab": {
          "base_uri": "https://localhost:8080/"
        },
        "id": "4EbwxXrLYage",
        "outputId": "cbdba217-513a-4b28-9fcb-709356cc0e37"
      },
      "execution_count": null,
      "outputs": [
        {
          "output_type": "stream",
          "name": "stdout",
          "text": [
            "HI\n",
            "hi\n"
          ]
        }
      ]
    },
    {
      "cell_type": "code",
      "source": [
        "n = lambda x: \"positive\" if x > 0 else \"negative\" if x < 0 else \"zero\"\n",
        "print(n(5))\n",
        "print(n(-3))\n",
        "print(n(0))"
      ],
      "metadata": {
        "colab": {
          "base_uri": "https://localhost:8080/"
        },
        "id": "W3a19M_NYqtG",
        "outputId": "173352ce-9077-4ad6-a943-df9db8cc0421"
      },
      "execution_count": null,
      "outputs": [
        {
          "output_type": "stream",
          "name": "stdout",
          "text": [
            "positive\n",
            "negative\n",
            "zero\n"
          ]
        }
      ]
    },
    {
      "cell_type": "code",
      "source": [
        "# Using lambda\n",
        "sq = lambda x: x ** 2\n",
        "print(sq(3))\n",
        "\n",
        "# Using def\n",
        "def sqdef(x):\n",
        "  return x ** 2\n",
        "print(sqdef(3))"
      ],
      "metadata": {
        "colab": {
          "base_uri": "https://localhost:8080/"
        },
        "id": "djU8740AZUO_",
        "outputId": "2bbc9060-7268-4c83-8736-b14df5d56e99"
      },
      "execution_count": null,
      "outputs": [
        {
          "output_type": "stream",
          "name": "stdout",
          "text": [
            "9\n",
            "9\n"
          ]
        }
      ]
    },
    {
      "cell_type": "code",
      "source": [
        "list = [lambda arg = x: arg * 10 for x in range(1, 5)]\n",
        "for i in list:\n",
        " print(i())"
      ],
      "metadata": {
        "colab": {
          "base_uri": "https://localhost:8080/"
        },
        "id": "bW7QiEFFZcGX",
        "outputId": "4d0aa5be-0aec-4e4e-bf22-a148379c061e"
      },
      "execution_count": null,
      "outputs": [
        {
          "output_type": "stream",
          "name": "stdout",
          "text": [
            "10\n",
            "20\n",
            "30\n",
            "40\n"
          ]
        }
      ]
    },
    {
      "cell_type": "code",
      "source": [
        "# check if no. is even or odd using lambda\n",
        "check = lambda x: \"Even\" if x % 2 == 0 else \"Odd\"\n",
        "print(check(4))\n",
        "print(check(7))"
      ],
      "metadata": {
        "colab": {
          "base_uri": "https://localhost:8080/"
        },
        "id": "-Glrbcfrbb8A",
        "outputId": "65742770-50b8-4a2c-a158-c8745338da1a"
      },
      "execution_count": null,
      "outputs": [
        {
          "output_type": "stream",
          "name": "stdout",
          "text": [
            "Even\n",
            "Odd\n"
          ]
        }
      ]
    },
    {
      "cell_type": "code",
      "source": [
        "# addition and mulitplication using lambda\n",
        "cal = lambda x, y: (x + y, x * y)\n",
        "res = cal(3, 4)\n",
        "print(res)"
      ],
      "metadata": {
        "colab": {
          "base_uri": "https://localhost:8080/"
        },
        "id": "bGC9Z10scBGv",
        "outputId": "37404edd-2b41-4321-b1f5-63c1cb461bf2"
      },
      "execution_count": null,
      "outputs": [
        {
          "output_type": "stream",
          "name": "stdout",
          "text": [
            "(7, 12)\n"
          ]
        }
      ]
    },
    {
      "cell_type": "code",
      "source": [
        "# filter even no. from a list using lambda\n",
        "n = [1, 2, 3, 4, 5]\n",
        "even = filter(lambda x: x % 2 == 0, n)\n",
        "print(list(even))"
      ],
      "metadata": {
        "colab": {
          "base_uri": "https://localhost:8080/"
        },
        "id": "4a9ftzK7dRxu",
        "outputId": "4e8c4fc9-1066-455e-e128-4cab5491dd74"
      },
      "execution_count": null,
      "outputs": [
        {
          "output_type": "stream",
          "name": "stdout",
          "text": [
            "[2, 4]\n"
          ]
        }
      ]
    },
    {
      "cell_type": "code",
      "source": [
        "a = [1, 2, 3, 4, 5, 6]\n",
        "b = filter(lambda x: x % 2 == 0, a)\n",
        "c = map(lambda x: x * 2, b)\n",
        "print(list(c))"
      ],
      "metadata": {
        "colab": {
          "base_uri": "https://localhost:8080/"
        },
        "id": "GQQtx_uerG2k",
        "outputId": "12354868-ca4d-401e-cf55-cd8213ee47fe"
      },
      "execution_count": null,
      "outputs": [
        {
          "output_type": "stream",
          "name": "stdout",
          "text": [
            "[4, 8, 12]\n"
          ]
        }
      ]
    },
    {
      "cell_type": "code",
      "source": [
        "# double each no. in a list using map function\n",
        "a = [1, 2, 3, 4]\n",
        "b = map(lambda x: x * 2, a)\n",
        "print(list(b))"
      ],
      "metadata": {
        "colab": {
          "base_uri": "https://localhost:8080/"
        },
        "id": "m32Jr9nnl82i",
        "outputId": "d8211f3f-25b5-48f5-be43-d9bd5bdaa497"
      },
      "execution_count": null,
      "outputs": [
        {
          "output_type": "stream",
          "name": "stdout",
          "text": [
            "[2, 4, 6, 8]\n"
          ]
        }
      ]
    },
    {
      "cell_type": "code",
      "source": [
        "# lambda with reduce function\n",
        "from functools import reduce\n",
        "a = [1, 2, 3, 4]\n",
        "b = reduce(lambda x, y: x * y, a)\n",
        "print(b)"
      ],
      "metadata": {
        "colab": {
          "base_uri": "https://localhost:8080/"
        },
        "id": "F942HQGCmO1W",
        "outputId": "18e92c63-9701-4195-b92f-88e52c14288a"
      },
      "execution_count": null,
      "outputs": [
        {
          "output_type": "stream",
          "name": "stdout",
          "text": [
            "24\n"
          ]
        }
      ]
    },
    {
      "cell_type": "code",
      "source": [
        "s = ['1', '2', '3', '4']\n",
        "res = map(int, s)\n",
        "print(list(res))"
      ],
      "metadata": {
        "colab": {
          "base_uri": "https://localhost:8080/"
        },
        "id": "ozo94zdIm0ae",
        "outputId": "f5397923-2699-47e7-e1cb-15733202e810"
      },
      "execution_count": null,
      "outputs": [
        {
          "output_type": "stream",
          "name": "stdout",
          "text": [
            "[1, 2, 3, 4]\n"
          ]
        }
      ]
    },
    {
      "cell_type": "code",
      "source": [
        "# converting map object to a list\n",
        "a = [1, 2, 3, 4]\n",
        "def double(val):\n",
        "  return val * 2\n",
        "res = list(map(double, a))\n",
        "print(res)"
      ],
      "metadata": {
        "colab": {
          "base_uri": "https://localhost:8080/"
        },
        "id": "QLXgByXvnJhy",
        "outputId": "ce7826d3-8b3b-40ad-cf54-8d43942eb2e5"
      },
      "execution_count": null,
      "outputs": [
        {
          "output_type": "stream",
          "name": "stdout",
          "text": [
            "[2, 4, 6, 8]\n"
          ]
        }
      ]
    },
    {
      "cell_type": "code",
      "source": [
        "# map() with lambda\n",
        "a = [1, 2, 3, 4]\n",
        "res = list(map(lambda x: x * 2, a))\n",
        "print(res)"
      ],
      "metadata": {
        "colab": {
          "base_uri": "https://localhost:8080/"
        },
        "id": "rShtebWMnxrr",
        "outputId": "7fb6512f-0182-475a-e22d-9a54d341780b"
      },
      "execution_count": null,
      "outputs": [
        {
          "output_type": "stream",
          "name": "stdout",
          "text": [
            "[2, 4, 6, 8]\n"
          ]
        }
      ]
    },
    {
      "cell_type": "code",
      "source": [
        "# map() with multiplt iterables\n",
        "a = [1, 2, 3]\n",
        "b = [4, 5, 6]\n",
        "res = map(lambda x, y: x + y, a, b)\n",
        "print(list(res))"
      ],
      "metadata": {
        "colab": {
          "base_uri": "https://localhost:8080/"
        },
        "id": "D1dyfcPboMLT",
        "outputId": "29843d46-954d-4f1c-aa37-f958a3eede1a"
      },
      "execution_count": null,
      "outputs": [
        {
          "output_type": "stream",
          "name": "stdout",
          "text": [
            "[5, 7, 9]\n"
          ]
        }
      ]
    },
    {
      "cell_type": "code",
      "source": [
        "# converting string to uppercase\n",
        "fruits = ['apple', 'banana', 'cherry']\n",
        "res = map(str.upper, fruits)\n",
        "print(list(res))"
      ],
      "metadata": {
        "colab": {
          "base_uri": "https://localhost:8080/"
        },
        "id": "v-VPRg-gocHr",
        "outputId": "4dd37684-d8e1-4e18-9169-010512899420"
      },
      "execution_count": null,
      "outputs": [
        {
          "output_type": "stream",
          "name": "stdout",
          "text": [
            "['APPLE', 'BANANA', 'CHERRY']\n"
          ]
        }
      ]
    },
    {
      "cell_type": "code",
      "source": [
        "# Extracting first character from strings\n",
        "words = ['apple', 'banana', 'cherry']\n",
        "res = map(lambda s: s[0], words)\n",
        "print(list(res))"
      ],
      "metadata": {
        "colab": {
          "base_uri": "https://localhost:8080/"
        },
        "id": "t20ya70boqF6",
        "outputId": "53588513-7653-4dc8-fe4f-4c470a1840cf"
      },
      "execution_count": null,
      "outputs": [
        {
          "output_type": "stream",
          "name": "stdout",
          "text": [
            "['a', 'b', 'c']\n"
          ]
        }
      ]
    },
    {
      "cell_type": "code",
      "source": [
        "# removing white spaces from string\n",
        "s = [' hello ', ' world ']\n",
        "res = map(str.strip, s)\n",
        "print(list(res))"
      ],
      "metadata": {
        "colab": {
          "base_uri": "https://localhost:8080/"
        },
        "id": "JU3Ep_MYpKBV",
        "outputId": "bc732936-3a71-4ce4-d105-a34f2c853364"
      },
      "execution_count": null,
      "outputs": [
        {
          "output_type": "stream",
          "name": "stdout",
          "text": [
            "['hello', 'world']\n"
          ]
        }
      ]
    },
    {
      "cell_type": "code",
      "source": [
        "# filter(): It filters the given sequence with the help of a function that test each element in the sequence to be true or not.\n",
        "def even(n):\n",
        "  return n % 2 == 0\n",
        "a = [1, 2, 3, 4, 5, 6]\n",
        "b = filter(even, a)\n",
        "print(list(b))"
      ],
      "metadata": {
        "colab": {
          "base_uri": "https://localhost:8080/"
        },
        "id": "pW55wj-zpysT",
        "outputId": "28cee0bc-3ccb-45b0-fde5-71904b6de6d7"
      },
      "execution_count": null,
      "outputs": [
        {
          "output_type": "stream",
          "name": "stdout",
          "text": [
            "[2, 4, 6]\n"
          ]
        }
      ]
    },
    {
      "cell_type": "code",
      "source": [
        "# reduce(): It is used to apply a function to the items of an iterabe, reducing the iterabe to a single list.\n",
        "# iterable is any Python object that you can loop over (iterate through) using a for loop.\n",
        "from functools import reduce\n",
        "a = [1, 2, 3, 4]\n",
        "b = reduce(lambda x, y: x * y, a)\n",
        "print(b)"
      ],
      "metadata": {
        "colab": {
          "base_uri": "https://localhost:8080/"
        },
        "id": "XSalVfofqJaD",
        "outputId": "a1ad0d96-842c-4a53-85e6-b3919a781bcb"
      },
      "execution_count": null,
      "outputs": [
        {
          "output_type": "stream",
          "name": "stdout",
          "text": [
            "24\n"
          ]
        }
      ]
    },
    {
      "cell_type": "code",
      "source": [
        "# function to add two no.\n",
        "from functools import reduce\n",
        "def add(x, y):\n",
        "  return x + y\n",
        "a = [1, 2, 3, 4, 5]\n",
        "res = reduce(add, a)\n",
        "print(res)"
      ],
      "metadata": {
        "colab": {
          "base_uri": "https://localhost:8080/"
        },
        "id": "Y34-Y9CItXkt",
        "outputId": "c9065ff7-3f39-40d9-864e-0e276bfcf46f"
      },
      "execution_count": null,
      "outputs": [
        {
          "output_type": "stream",
          "name": "stdout",
          "text": [
            "15\n"
          ]
        }
      ]
    },
    {
      "cell_type": "code",
      "source": [
        "# reduce function with lambda function\n",
        "from functools import reduce\n",
        "a = [1, 2, 3, 4]\n",
        "res = reduce(lambda x, y: x * y, a)\n",
        "print(res)"
      ],
      "metadata": {
        "colab": {
          "base_uri": "https://localhost:8080/"
        },
        "id": "Ibphk6AsthEv",
        "outputId": "d15fc449-0df0-49b2-bda9-0dd0104cd003"
      },
      "execution_count": null,
      "outputs": [
        {
          "output_type": "stream",
          "name": "stdout",
          "text": [
            "24\n"
          ]
        }
      ]
    },
    {
      "cell_type": "code",
      "source": [
        "# reduce function with operator module\n",
        "import functools\n",
        "import operator\n",
        "a = [1, 3, 5, 6, 2]\n",
        "print(functools.reduce(operator.add, a))\n",
        "print(functools.reduce(operator.mul, a))\n",
        "print(functools.reduce(operator.add, [\"hi\", \"hello\", \"guys\"]))"
      ],
      "metadata": {
        "colab": {
          "base_uri": "https://localhost:8080/"
        },
        "id": "ExzlBpWCuDtF",
        "outputId": "e8ed25d5-9a5a-4a00-ddd3-378492be2590"
      },
      "execution_count": null,
      "outputs": [
        {
          "output_type": "stream",
          "name": "stdout",
          "text": [
            "17\n",
            "180\n",
            "hihelloguys\n"
          ]
        }
      ]
    },
    {
      "cell_type": "code",
      "source": [
        "# reduce function with initializer\n",
        "# lambda x, y: x + y = lambda function takes two arguments, x and y, and returns their sum.\n",
        "# a: This is the iterable (a list in this case) that reduce will process.\n",
        "# 10: This is initializer, so reduce will start from 10, then add first element of a, then second element of a, and so on.\n",
        "from functools import reduce\n",
        "a = [1, 2, 3]\n",
        "res = reduce(lambda x, y: x + y, a, 10)\n",
        "print(res)"
      ],
      "metadata": {
        "colab": {
          "base_uri": "https://localhost:8080/"
        },
        "id": "mW5FNNHdu-WX",
        "outputId": "fb31cb81-e31d-4999-f8cc-f7801667ae9e"
      },
      "execution_count": null,
      "outputs": [
        {
          "output_type": "stream",
          "name": "stdout",
          "text": [
            "16\n"
          ]
        }
      ]
    },
    {
      "cell_type": "code",
      "source": [
        "# accumulate(): It returns an iterator of intermediate results, while reduce() returns only final value.\n",
        "# res = accumulate(a, add): The accumulate() function takes the list a and the add function as arguments. It returns an iterator that produces accumulated sums. The first element is the first element of a, the second is the sum of the first two elements, the third is the sum of the first three, and so on.\n",
        "from itertools import accumulate\n",
        "from operator import add\n",
        "a = [1, 2, 3, 4, 5]\n",
        "res = accumulate(a, add)\n",
        "print(list(res))"
      ],
      "metadata": {
        "colab": {
          "base_uri": "https://localhost:8080/"
        },
        "id": "rTH14JPLvVRx",
        "outputId": "bf0a06f5-ce9d-4c92-ddb8-acd41901eb9c"
      },
      "execution_count": null,
      "outputs": [
        {
          "output_type": "stream",
          "name": "stdout",
          "text": [
            "[1, 3, 6, 10, 15]\n"
          ]
        }
      ]
    }
  ]
}