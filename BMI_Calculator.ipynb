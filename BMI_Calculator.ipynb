{
  "nbformat": 4,
  "nbformat_minor": 0,
  "metadata": {
    "colab": {
      "provenance": [],
      "authorship_tag": "ABX9TyM6gP9QjBuXP0HAllHZS3O5",
      "include_colab_link": true
    },
    "kernelspec": {
      "name": "python3",
      "display_name": "Python 3"
    },
    "language_info": {
      "name": "python"
    }
  },
  "cells": [
    {
      "cell_type": "markdown",
      "metadata": {
        "id": "view-in-github",
        "colab_type": "text"
      },
      "source": [
        "<a href=\"https://colab.research.google.com/github/kartiksharma2383/Python/blob/main/BMI_Calculator.ipynb\" target=\"_parent\"><img src=\"https://colab.research.google.com/assets/colab-badge.svg\" alt=\"Open In Colab\"/></a>"
      ]
    },
    {
      "cell_type": "code",
      "execution_count": 24,
      "metadata": {
        "colab": {
          "base_uri": "https://localhost:8080/"
        },
        "id": "CtogoZD09lms",
        "outputId": "c46c6256-e61d-4601-acc2-d38b2d2de5f5"
      },
      "outputs": [
        {
          "output_type": "stream",
          "name": "stdout",
          "text": [
            "Enter your name: Alex\n",
            "Enter your weight in pounds: 170\n",
            "Enter your height in inches: 70\n",
            "24.389795918367348\n",
            "Alex Normal Weight -> Minimal risk\n"
          ]
        }
      ],
      "source": [
        "name = input(\"Enter your name: \")\n",
        "weight = int(input(\"Enter your weight in pounds: \"))\n",
        "height = int(input(\"Enter your height in inches: \"))\n",
        "BMI = (weight * 703)/ (height * height)\n",
        "print(BMI)\n",
        "if BMI > 0:\n",
        "  if(BMI < 18.5):\n",
        "    print(name + \" Underweight -> Minimal risk\")\n",
        "  elif(BMI >= 18.5 and BMI <= 24.9):\n",
        "    print(name + \" Normal Weight -> Minimal risk\")\n",
        "  elif(BMI >= 25 and BMI <= 29.9):\n",
        "    print(name + \" Overweight -> Increased risk\")\n",
        "  elif(BMI >= 30 and BMI <= 34.9):\n",
        "    print(name + \" Obese -> High risk\")\n",
        "  elif(BMI >= 35 and BMI <= 39.9):\n",
        "    print(name + \" Very Obese -> Very High risk\")\n",
        "  elif(BMI >= 40):\n",
        "    print(name + \" Extremely Obese -> Extremely High risk\")\n",
        "  else:\n",
        "    print(\"Enter valid inputs\")"
      ]
    }
  ]
}