{
  "nbformat": 4,
  "nbformat_minor": 0,
  "metadata": {
    "colab": {
      "provenance": [],
      "authorship_tag": "ABX9TyN8A4ObkVSALyBg/yUivZRW",
      "include_colab_link": true
    },
    "kernelspec": {
      "name": "python3",
      "display_name": "Python 3"
    },
    "language_info": {
      "name": "python"
    }
  },
  "cells": [
    {
      "cell_type": "markdown",
      "metadata": {
        "id": "view-in-github",
        "colab_type": "text"
      },
      "source": [
        "<a href=\"https://colab.research.google.com/github/kartiksharma2383/Python/blob/main/File_Handling_in_Python.ipynb\" target=\"_parent\"><img src=\"https://colab.research.google.com/assets/colab-badge.svg\" alt=\"Open In Colab\"/></a>"
      ]
    },
    {
      "cell_type": "code",
      "execution_count": null,
      "metadata": {
        "colab": {
          "base_uri": "https://localhost:8080/"
        },
        "id": "kpDVe90jTRBp",
        "outputId": "38c81e50-98ae-4147-84f4-f25df03b03ef"
      },
      "outputs": [
        {
          "output_type": "stream",
          "name": "stdout",
          "text": [
            "<_io.TextIOWrapper name='/content/Exception_Handling_in_Python.ipynb' mode='r' encoding='utf-8'>\n"
          ]
        }
      ],
      "source": [
        "# File handling (Process of performing operations on a file, such as creating, opening, reading, writing and closing it through a programming interface)\n",
        "f = open(\"/content/Exception_Handling_in_Python.ipynb\", \"r\")\n",
        "print(f)"
      ]
    },
    {
      "cell_type": "code",
      "source": [
        "# Checking file properties\n",
        "print(\"filename:\", f.name)\n",
        "print(\"mode:\", f.mode)\n",
        "print(\"is closed?\", f.closed)\n",
        "f.close()\n",
        "print(\"is closed?\", f.closed)"
      ],
      "metadata": {
        "colab": {
          "base_uri": "https://localhost:8080/"
        },
        "id": "Ix3Fyy4xUMYC",
        "outputId": "229aef46-5545-4f4d-a964-765c5cf6cc14"
      },
      "execution_count": null,
      "outputs": [
        {
          "output_type": "stream",
          "name": "stdout",
          "text": [
            "filename: /content/Exception_Handling_in_Python.ipynb\n",
            "mode: r\n",
            "is closed? False\n",
            "is closed? True\n"
          ]
        }
      ]
    },
    {
      "cell_type": "code",
      "source": [
        "# Reading a file\n",
        "file = open(\"/content/Exception_Handling_in_Python.ipynb\", \"r\")\n",
        "content = file.read()\n",
        "print(content)\n",
        "file.close()"
      ],
      "metadata": {
        "colab": {
          "base_uri": "https://localhost:8080/"
        },
        "id": "wnLFZdgJUkcN",
        "outputId": "6bb396fd-edff-41ef-f9e0-84a0e2941795"
      },
      "execution_count": null,
      "outputs": [
        {
          "output_type": "stream",
          "name": "stdout",
          "text": [
            "Hello, world!\n"
          ]
        }
      ]
    },
    {
      "cell_type": "code",
      "source": [
        "with open(\"/content/Exception_Handling_in_Python.ipynb\", \"r\") as file:\n",
        "  content = file.read()\n",
        "  print(content)"
      ],
      "metadata": {
        "colab": {
          "base_uri": "https://localhost:8080/"
        },
        "id": "ky6xtUqoU5pp",
        "outputId": "fb4967ae-b38a-40fd-af9b-9b4c93510763"
      },
      "execution_count": null,
      "outputs": [
        {
          "output_type": "stream",
          "name": "stdout",
          "text": [
            "Hello, world!\n"
          ]
        }
      ]
    },
    {
      "cell_type": "code",
      "source": [
        "# Handling exceptions when closing a file\n",
        "try:\n",
        "  file = open(\"/content/Exception_Handling_in_Python.ipynb\", \"r\")\n",
        "  content = file.read()\n",
        "  print(content)\n",
        "finally:\n",
        "  file.close()"
      ],
      "metadata": {
        "colab": {
          "base_uri": "https://localhost:8080/"
        },
        "id": "yr3VcihNVOvq",
        "outputId": "95f34060-10a3-437a-9908-2df46a9b967c"
      },
      "execution_count": null,
      "outputs": [
        {
          "output_type": "stream",
          "name": "stdout",
          "text": [
            "Hello, world!\n"
          ]
        }
      ]
    },
    {
      "cell_type": "code",
      "source": [
        "# Read mode('r'): This mode allows you to open a file for reading only. If the file does not exist, it will raise a FileNotFoundError.\n",
        "with open(\"/content/Exception_Handling_in_Python.ipynb\", \"r\") as file:\n",
        "  content = file.read()\n",
        "  print(content)"
      ],
      "metadata": {
        "colab": {
          "base_uri": "https://localhost:8080/"
        },
        "id": "KiOeE8zZXJ89",
        "outputId": "6b6bac73-d01e-4e8f-afc8-5add006890ae"
      },
      "execution_count": null,
      "outputs": [
        {
          "output_type": "stream",
          "name": "stdout",
          "text": [
            "Hello, world!\n"
          ]
        }
      ]
    },
    {
      "cell_type": "code",
      "source": [
        "# Write mode('w'): Opens the file for writing only. If the file exists, its content is deleted. If not, a new file is created.\n",
        "# After write mode the previous file content is permanently deleted\n",
        "with open('/content/Exception_Handling_in_Python.ipynb', 'w') as file:\n",
        "    file.write('Hello, world!')\n",
        "    print(content)"
      ],
      "metadata": {
        "colab": {
          "base_uri": "https://localhost:8080/"
        },
        "id": "oOaroCgBX3Ba",
        "outputId": "4dff25f7-e4a1-48af-b241-970873a7f6c6"
      },
      "execution_count": null,
      "outputs": [
        {
          "output_type": "stream",
          "name": "stdout",
          "text": [
            "Hello, world!\n"
          ]
        }
      ]
    },
    {
      "cell_type": "code",
      "source": [
        "# Append mode('a'): Opens the file to add content at the end without deleting existing data. If the file doesn’t exist, it creates a new one.\n",
        "with open('/content/Exception_Handling_in_Python.ipynb', 'a') as file:\n",
        "    file.write('\\nThis is a new line.')\n",
        "    print(content)"
      ],
      "metadata": {
        "colab": {
          "base_uri": "https://localhost:8080/"
        },
        "id": "y0z5LZBIYBXe",
        "outputId": "640cab65-594f-44f0-eba1-29213e49f2df"
      },
      "execution_count": null,
      "outputs": [
        {
          "output_type": "stream",
          "name": "stdout",
          "text": [
            "Hello, world!\n"
          ]
        }
      ]
    },
    {
      "cell_type": "code",
      "source": [
        "# Binary mode('b'): Used for non-text files like images or audio. Always combined with 'r', 'w', or 'a.\n",
        "# To read the content of a text file like a .ipynb, use text mode ('r').\n",
        "with open('/content/Exception_Handling_in_Python.ipynb', 'r') as file:\n",
        "    data = file.read()\n",
        "    print(data)"
      ],
      "metadata": {
        "colab": {
          "base_uri": "https://localhost:8080/"
        },
        "id": "n6N4aySEYYO3",
        "outputId": "52f26c44-8694-4bc3-cc4f-bf53c19f9440"
      },
      "execution_count": null,
      "outputs": [
        {
          "output_type": "stream",
          "name": "stdout",
          "text": [
            "Hello, world!\n",
            "This is a new line.\n"
          ]
        }
      ]
    },
    {
      "cell_type": "code",
      "source": [
        "# Read and write mode('r+'): Opens the file for both reading and writing. Starts at the beginning of the file. Raises FileNotFoundError if the file doesn’t exist.\n",
        "with open('/content/Exception_Handling_in_Python.ipynb', 'r+') as file:\n",
        "    content = file.read()\n",
        "    file.write('\\nThis is a new line.')\n",
        "    print(content)"
      ],
      "metadata": {
        "colab": {
          "base_uri": "https://localhost:8080/"
        },
        "id": "FPdfXjEmYqP2",
        "outputId": "52959518-0446-4b9e-9784-f748170e9caa"
      },
      "execution_count": null,
      "outputs": [
        {
          "output_type": "stream",
          "name": "stdout",
          "text": [
            "Hello, world!\n",
            "This is a new line.\n"
          ]
        }
      ]
    },
    {
      "cell_type": "code",
      "source": [
        "# Write and read mode('w+'): This mode allows you to open a file for both reading and writing. If the file already exists, it will truncate the file to zero length. If the file does not exist, it will create a new file.\n",
        "with open('/content/Exception_Handling_in_Python.ipynb', 'w+') as file:\n",
        "    file.write('Hello, world!')\n",
        "    file.seek(0)\n",
        "    content = file.read()\n",
        "    print(content)"
      ],
      "metadata": {
        "colab": {
          "base_uri": "https://localhost:8080/"
        },
        "id": "dv1vtbDWY9IV",
        "outputId": "b7ebb371-e2e9-4dd5-8287-0e76acb3c50d"
      },
      "execution_count": null,
      "outputs": [
        {
          "output_type": "stream",
          "name": "stdout",
          "text": [
            "Hello, world!\n"
          ]
        }
      ]
    },
    {
      "cell_type": "code",
      "source": [
        "file = open(\"/content/sample_data/california_housing_train.csv\", \"r\")\n",
        "# Read each line one by one\n",
        "for line in file:\n",
        "    print(line.strip())  # .strip() to remove newline characters\n",
        "file.close()"
      ],
      "metadata": {
        "colab": {
          "base_uri": "https://localhost:8080/"
        },
        "id": "4pozLuw-ZKmV",
        "outputId": "f4321263-bf13-451a-eb18-3fc63ebc8c8a"
      },
      "execution_count": null,
      "outputs": [
        {
          "output_type": "stream",
          "name": "stdout",
          "text": [
            "created usign write mode, content appended to the file\n"
          ]
        }
      ]
    },
    {
      "cell_type": "code",
      "source": [
        "# file.readline() reads one line at a time. while line continues until there are no more lines to read.\n",
        "file = open(\"/content/sample_data/california_housing_train.csv\", \"r\")\n",
        "line = file.readline()\n",
        "while line:\n",
        "  print(line.strip())\n",
        "  line = file.readline()\n",
        "file.close()"
      ],
      "metadata": {
        "colab": {
          "base_uri": "https://localhost:8080/"
        },
        "id": "q6jUacMabVuQ",
        "outputId": "c30aecc9-8173-477c-cd5f-3441f19e683e"
      },
      "execution_count": null,
      "outputs": [
        {
          "output_type": "stream",
          "name": "stdout",
          "text": [
            "created usign write mode, content appended to the file\n"
          ]
        }
      ]
    },
    {
      "cell_type": "code",
      "source": [
        "# Reading specific parts of a file\n",
        "file = open(\"/content/sample_data/california_housing_train.csv\", \"r\")\n",
        "content = file.read(10)  # Read the first 10 characters\n",
        "print(content)\n",
        "file.close()"
      ],
      "metadata": {
        "colab": {
          "base_uri": "https://localhost:8080/"
        },
        "id": "gg8KsSmgcuF-",
        "outputId": "b0ce6845-cb00-40c0-9848-82ba4900bc53"
      },
      "execution_count": null,
      "outputs": [
        {
          "output_type": "stream",
          "name": "stdout",
          "text": [
            "created us\n"
          ]
        }
      ]
    },
    {
      "cell_type": "code",
      "source": [
        "import csv\n",
        "with open(\"/content/sample_data/california_housing_train.csv\", newline='') as csvfile:\n",
        "    csvreader = csv.reader(csvfile)\n",
        "    for row in csvreader:\n",
        "        print(row)"
      ],
      "metadata": {
        "colab": {
          "base_uri": "https://localhost:8080/"
        },
        "id": "LzNZXjqgc1d7",
        "outputId": "1fff7f8a-35c3-42fd-f93c-3133d51e5e20"
      },
      "execution_count": null,
      "outputs": [
        {
          "output_type": "stream",
          "name": "stdout",
          "text": [
            "['created usign write mode', ' content appended to the file']\n"
          ]
        }
      ]
    },
    {
      "cell_type": "code",
      "source": [
        "# Write (\"w\") mode: This mode creates a new file if it doesn't exist. If the file already exists, it truncates the file (i.e., deletes the existing content) and starts fresh.\n",
        "with open(\"/content/sample_data/california_housing_train.csv\", \"w\") as f:\n",
        "  f.write(\"created usign write mode, \")\n",
        "f = open(\"/content/sample_data/california_housing_train.csv\", \"r\")\n",
        "print(f.read())\n",
        "\n",
        "# Append (\"a\") Mode: This mode creates a new file if it doesn't exist. If the file exists, it appends new content at the end without modifying the existing data.\n",
        "with open(\"/content/sample_data/california_housing_train.csv\", \"a\") as f:\n",
        " f.write(\"content appended to the file\")\n",
        "f = open(\"/content/sample_data/california_housing_train.csv\", \"r\")\n",
        "print(f.read())\n",
        "\n",
        "# Exclusive Creation (\"x\") Mode: This mode creates a new file only if it doesn't already exist. If the file already exists, it raises a FileExistsError.\n",
        "try:\n",
        "  with open(\"/content/sample_data/california_housing_train.csv\", \"x\") as f:\n",
        "    f.write(\"Created using exclusive mode\")\n",
        "except FileExistsError:\n",
        "    print(\"already exist\")"
      ],
      "metadata": {
        "colab": {
          "base_uri": "https://localhost:8080/"
        },
        "id": "ET0XwkOcc_gJ",
        "outputId": "950f0a34-2698-4491-a337-ea1e6ccb328e"
      },
      "execution_count": null,
      "outputs": [
        {
          "output_type": "stream",
          "name": "stdout",
          "text": [
            "created usign write mode, \n",
            "created usign write mode, content appended to the file\n",
            "already exist\n"
          ]
        }
      ]
    },
    {
      "cell_type": "code",
      "source": [
        "# write mode (\"w\"): This will overwrite any existing content\n",
        "# writelines(): Allows us to write a list of string to the file in a single call.\n",
        "# Writing to an existing file (content will be overwritten)\n",
        "with open(\"file1.txt\", \"w\") as f:\n",
        "  f.write(\"written to the file\")\n",
        "f = open(\"file1.txt\", \"r\")\n",
        "print(f.read())\n",
        "\n",
        "# Writing multiple lines to an existing file using writelines()\n",
        "s = [\"first line of text\\n\", \"second line of text\\n\", \"third line of text\\n\"]\n",
        "with open(\"file1.txt\", \"w\") as f:\n",
        "  f.writelines(s)\n",
        "f = open(\"file1.txt\", \"r\")\n",
        "print(f.read())"
      ],
      "metadata": {
        "id": "HmHGmOyhfY6Z",
        "colab": {
          "base_uri": "https://localhost:8080/"
        },
        "outputId": "202e0909-baf9-40c7-e48a-8cac6a7c6460"
      },
      "execution_count": null,
      "outputs": [
        {
          "output_type": "stream",
          "name": "stdout",
          "text": [
            "written to the file\n",
            "first line of text\n",
            "second line of text\n",
            "third line of text\n",
            "\n"
          ]
        }
      ]
    }
  ]
}