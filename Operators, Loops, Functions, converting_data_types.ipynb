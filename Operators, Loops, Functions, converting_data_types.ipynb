{
  "nbformat": 4,
  "nbformat_minor": 0,
  "metadata": {
    "colab": {
      "provenance": [],
      "authorship_tag": "ABX9TyNXNOSzkWNo2eo1HcIDVkvE",
      "include_colab_link": true
    },
    "kernelspec": {
      "name": "python3",
      "display_name": "Python 3"
    },
    "language_info": {
      "name": "python"
    }
  },
  "cells": [
    {
      "cell_type": "markdown",
      "metadata": {
        "id": "view-in-github",
        "colab_type": "text"
      },
      "source": [
        "<a href=\"https://colab.research.google.com/github/kartiksharma2383/Python/blob/main/Operators%2C%20Loops%2C%20Functions%2C%20converting_data_types.ipynb\" target=\"_parent\"><img src=\"https://colab.research.google.com/assets/colab-badge.svg\" alt=\"Open In Colab\"/></a>"
      ]
    },
    {
      "cell_type": "code",
      "execution_count": null,
      "metadata": {
        "colab": {
          "base_uri": "https://localhost:8080/"
        },
        "id": "GYKpj0kBuZwS",
        "outputId": "a97c32ef-3dbe-48f9-d0da-d917a33d492e"
      },
      "outputs": [
        {
          "output_type": "execute_result",
          "data": {
            "text/plain": [
              "True"
            ]
          },
          "metadata": {},
          "execution_count": 1
        }
      ],
      "source": [
        "#Comparasion, logical, membership operators\n",
        "10 == 10"
      ]
    },
    {
      "cell_type": "code",
      "source": [
        "10 == 50"
      ],
      "metadata": {
        "colab": {
          "base_uri": "https://localhost:8080/"
        },
        "id": "5p244qqFvDQW",
        "outputId": "930e3cf5-5953-4a52-b061-7727fc578852"
      },
      "execution_count": null,
      "outputs": [
        {
          "output_type": "execute_result",
          "data": {
            "text/plain": [
              "False"
            ]
          },
          "metadata": {},
          "execution_count": 2
        }
      ]
    },
    {
      "cell_type": "code",
      "source": [
        "10 != 50"
      ],
      "metadata": {
        "colab": {
          "base_uri": "https://localhost:8080/"
        },
        "id": "yF2YB7W-vFUP",
        "outputId": "f46a93fd-eaae-4946-c632-77c47e823ad4"
      },
      "execution_count": null,
      "outputs": [
        {
          "output_type": "execute_result",
          "data": {
            "text/plain": [
              "True"
            ]
          },
          "metadata": {},
          "execution_count": 3
        }
      ]
    },
    {
      "cell_type": "code",
      "source": [
        "x = 10\n",
        "y = 20\n",
        "x != y"
      ],
      "metadata": {
        "colab": {
          "base_uri": "https://localhost:8080/"
        },
        "id": "M0RNHECavKjz",
        "outputId": "2eadbe13-084c-424a-ce04-099cdb82a6b4"
      },
      "execution_count": null,
      "outputs": [
        {
          "output_type": "execute_result",
          "data": {
            "text/plain": [
              "True"
            ]
          },
          "metadata": {},
          "execution_count": 4
        }
      ]
    },
    {
      "cell_type": "code",
      "source": [
        "10 < 50"
      ],
      "metadata": {
        "id": "sYmtBS2dvUDM",
        "colab": {
          "base_uri": "https://localhost:8080/"
        },
        "outputId": "9e970c81-3c35-4adf-e982-0a1d45cdaf82"
      },
      "execution_count": 1,
      "outputs": [
        {
          "output_type": "execute_result",
          "data": {
            "text/plain": [
              "True"
            ]
          },
          "metadata": {},
          "execution_count": 1
        }
      ]
    },
    {
      "cell_type": "code",
      "source": [
        "10 >= 50"
      ],
      "metadata": {
        "colab": {
          "base_uri": "https://localhost:8080/"
        },
        "id": "ezrcboHbwfQB",
        "outputId": "1621c8d5-fc88-4ad9-e4c7-35388c396b6a"
      },
      "execution_count": 3,
      "outputs": [
        {
          "output_type": "execute_result",
          "data": {
            "text/plain": [
              "False"
            ]
          },
          "metadata": {},
          "execution_count": 3
        }
      ]
    },
    {
      "cell_type": "code",
      "source": [
        "(10 > 50) and (50 > 10)"
      ],
      "metadata": {
        "colab": {
          "base_uri": "https://localhost:8080/"
        },
        "id": "_ELsWTSVwsOZ",
        "outputId": "33b8ff81-ae78-4e63-ad1e-b28c8fc6b9dd"
      },
      "execution_count": 4,
      "outputs": [
        {
          "output_type": "execute_result",
          "data": {
            "text/plain": [
              "False"
            ]
          },
          "metadata": {},
          "execution_count": 4
        }
      ]
    },
    {
      "cell_type": "code",
      "source": [
        "(70 > 50) and (50 > 10)"
      ],
      "metadata": {
        "colab": {
          "base_uri": "https://localhost:8080/"
        },
        "id": "A2mqbA4Kwzod",
        "outputId": "f52aeeed-0aa7-4a81-bb38-ae202673d712"
      },
      "execution_count": 5,
      "outputs": [
        {
          "output_type": "execute_result",
          "data": {
            "text/plain": [
              "True"
            ]
          },
          "metadata": {},
          "execution_count": 5
        }
      ]
    },
    {
      "cell_type": "code",
      "source": [
        "(10 > 50) or (50 > 10)"
      ],
      "metadata": {
        "colab": {
          "base_uri": "https://localhost:8080/"
        },
        "id": "Q4Vwx-d2w3yF",
        "outputId": "e75be5b5-c657-4ae8-ddcd-e7d343c8012b"
      },
      "execution_count": 6,
      "outputs": [
        {
          "output_type": "execute_result",
          "data": {
            "text/plain": [
              "True"
            ]
          },
          "metadata": {},
          "execution_count": 6
        }
      ]
    },
    {
      "cell_type": "code",
      "source": [
        "ice_cream = 'chocolate ice cream'\n",
        "'ice' in 'chocolate ice cream'"
      ],
      "metadata": {
        "colab": {
          "base_uri": "https://localhost:8080/"
        },
        "id": "DVzUqEFjw-Ni",
        "outputId": "411d47b8-1b58-4fc7-aee4-6ab6e88f002c"
      },
      "execution_count": 7,
      "outputs": [
        {
          "output_type": "execute_result",
          "data": {
            "text/plain": [
              "True"
            ]
          },
          "metadata": {},
          "execution_count": 7
        }
      ]
    },
    {
      "cell_type": "code",
      "source": [
        "scoops = [1,2,3,4,5]\n",
        "wanted_scoops = 8\n",
        "wanted_scoops in scoops"
      ],
      "metadata": {
        "colab": {
          "base_uri": "https://localhost:8080/"
        },
        "id": "fBzrwCVlxXHS",
        "outputId": "8d352b89-2296-4a40-d274-97143ae387aa"
      },
      "execution_count": 8,
      "outputs": [
        {
          "output_type": "execute_result",
          "data": {
            "text/plain": [
              "False"
            ]
          },
          "metadata": {},
          "execution_count": 8
        }
      ]
    },
    {
      "cell_type": "code",
      "source": [
        "scoops = [1,2,3,4,5]\n",
        "wanted_scoops = 8\n",
        "wanted_scoops not in scoops"
      ],
      "metadata": {
        "colab": {
          "base_uri": "https://localhost:8080/"
        },
        "id": "H6EcS4IOxhAL",
        "outputId": "1836e6c6-6f82-4bbc-be9f-388cf906d74a"
      },
      "execution_count": 9,
      "outputs": [
        {
          "output_type": "execute_result",
          "data": {
            "text/plain": [
              "True"
            ]
          },
          "metadata": {},
          "execution_count": 9
        }
      ]
    },
    {
      "cell_type": "code",
      "source": [
        "#if - elif - else statements\n",
        "if 25 > 10:\n",
        "  print('it worked')"
      ],
      "metadata": {
        "colab": {
          "base_uri": "https://localhost:8080/"
        },
        "id": "HVo8fyg0xksh",
        "outputId": "0e58b0f2-54a9-4335-fb17-caeafab1ddb5"
      },
      "execution_count": 10,
      "outputs": [
        {
          "output_type": "stream",
          "name": "stdout",
          "text": [
            "it worked\n"
          ]
        }
      ]
    },
    {
      "cell_type": "code",
      "source": [
        "if 25 < 10:\n",
        "  print('it worked')\n",
        "else:\n",
        "  print('it did not work')"
      ],
      "metadata": {
        "colab": {
          "base_uri": "https://localhost:8080/"
        },
        "id": "9VEj09TEyUdP",
        "outputId": "5bb303d9-b7c6-4e0d-9175-fae683bc3f13"
      },
      "execution_count": 11,
      "outputs": [
        {
          "output_type": "stream",
          "name": "stdout",
          "text": [
            "it did not work\n"
          ]
        }
      ]
    },
    {
      "cell_type": "code",
      "source": [
        "if 25 < 10:\n",
        "  print('it worked')\n",
        "elif 25 < 30:\n",
        "  print('elif worked')\n",
        "else:\n",
        "  print('it did not work')"
      ],
      "metadata": {
        "colab": {
          "base_uri": "https://localhost:8080/"
        },
        "id": "JM7tk8deyYbb",
        "outputId": "54755720-fb65-40cf-c91c-4d7f3e52243f"
      },
      "execution_count": 14,
      "outputs": [
        {
          "output_type": "stream",
          "name": "stdout",
          "text": [
            "elif worked\n"
          ]
        }
      ]
    },
    {
      "cell_type": "code",
      "source": [
        "if (25 > 10) or (1 < 3):\n",
        "  print('it worked')\n",
        "elif 25 < 20:\n",
        "  print('elif worked')\n",
        "else:\n",
        "  print('it did not work')"
      ],
      "metadata": {
        "colab": {
          "base_uri": "https://localhost:8080/"
        },
        "id": "likuZXVUypcJ",
        "outputId": "f767e5d0-e2a5-4acf-ef59-6d19f37d4138"
      },
      "execution_count": 15,
      "outputs": [
        {
          "output_type": "stream",
          "name": "stdout",
          "text": [
            "it worked\n"
          ]
        }
      ]
    },
    {
      "cell_type": "code",
      "source": [
        "# For loop\n",
        "integers = [1,2,3,4,5]\n",
        "for number in integers:\n",
        "  print(number)"
      ],
      "metadata": {
        "colab": {
          "base_uri": "https://localhost:8080/"
        },
        "id": "HV6vMMR9zssM",
        "outputId": "477f3d4e-8a8b-4f55-eefb-7c2aacc662e7"
      },
      "execution_count": 16,
      "outputs": [
        {
          "output_type": "stream",
          "name": "stdout",
          "text": [
            "1\n",
            "2\n",
            "3\n",
            "4\n",
            "5\n"
          ]
        }
      ]
    },
    {
      "cell_type": "code",
      "source": [
        "for number in integers:\n",
        "  print('yep')"
      ],
      "metadata": {
        "colab": {
          "base_uri": "https://localhost:8080/"
        },
        "id": "vkYW5H9V0Zy-",
        "outputId": "a0eca16e-4411-498d-faef-44ae82fe8d3a"
      },
      "execution_count": 17,
      "outputs": [
        {
          "output_type": "stream",
          "name": "stdout",
          "text": [
            "yep\n",
            "yep\n",
            "yep\n",
            "yep\n",
            "yep\n"
          ]
        }
      ]
    },
    {
      "cell_type": "code",
      "source": [
        "ice_cream_dict = {'name': 'Alex Freberg', 'weekly intake':5, 'favorite ice creams': ['MCC', 'Chocolate']}\n",
        "for cream in ice_cream_dict.values():\n",
        "  print(cream)"
      ],
      "metadata": {
        "colab": {
          "base_uri": "https://localhost:8080/"
        },
        "id": "geHWatQG0izz",
        "outputId": "4bd44c00-0e99-406b-e0b8-b90c722ee1a6"
      },
      "execution_count": 21,
      "outputs": [
        {
          "output_type": "stream",
          "name": "stdout",
          "text": [
            "Alex Freberg\n",
            "5\n",
            "['MCC', 'Chocolate']\n"
          ]
        }
      ]
    },
    {
      "cell_type": "code",
      "source": [
        "for key, value in ice_cream_dict.items():\n",
        "  print(key,'->',value)"
      ],
      "metadata": {
        "colab": {
          "base_uri": "https://localhost:8080/"
        },
        "id": "zCvOzOu01QqX",
        "outputId": "ebfcf5b2-0f07-4ab2-c368-6cd0f8b99377"
      },
      "execution_count": 22,
      "outputs": [
        {
          "output_type": "stream",
          "name": "stdout",
          "text": [
            "name -> Alex Freberg\n",
            "weekly intake -> 5\n",
            "favorite ice creams -> ['MCC', 'Chocolate']\n"
          ]
        }
      ]
    },
    {
      "cell_type": "code",
      "source": [
        "# Nested for loop\n",
        "flavors = ['vanilla', 'chocolate', 'cookie']\n",
        "toppings = ['hot fudge', 'sprinkles', 'oreos']\n",
        "for one in flavors:\n",
        "  for two in toppings:\n",
        "    print(one, 'topped with', two)"
      ],
      "metadata": {
        "colab": {
          "base_uri": "https://localhost:8080/"
        },
        "id": "ZHNFFynX1iG8",
        "outputId": "1154d805-4c22-4b00-9cae-4bc47f6b2978"
      },
      "execution_count": 23,
      "outputs": [
        {
          "output_type": "stream",
          "name": "stdout",
          "text": [
            "vanilla topped with hot fudge\n",
            "vanilla topped with sprinkles\n",
            "vanilla topped with oreos\n",
            "chocolate topped with hot fudge\n",
            "chocolate topped with sprinkles\n",
            "chocolate topped with oreos\n",
            "cookie topped with hot fudge\n",
            "cookie topped with sprinkles\n",
            "cookie topped with oreos\n"
          ]
        }
      ]
    },
    {
      "cell_type": "code",
      "source": [
        "# while loop\n",
        "number = 0\n",
        "while number < 5:\n",
        "  print(number)\n",
        "  number = number + 1"
      ],
      "metadata": {
        "colab": {
          "base_uri": "https://localhost:8080/"
        },
        "id": "o4vUZmcx2kly",
        "outputId": "9fe32b55-169a-4dd3-fc0c-1962db39da24"
      },
      "execution_count": 27,
      "outputs": [
        {
          "output_type": "stream",
          "name": "stdout",
          "text": [
            "0\n",
            "1\n",
            "2\n",
            "3\n",
            "4\n"
          ]
        }
      ]
    },
    {
      "cell_type": "code",
      "source": [
        "number = 0\n",
        "while number < 5:\n",
        "  print(number)\n",
        "  if number == 6:\n",
        "    break\n",
        "  number = number + 1\n",
        "else:\n",
        "    print('no longer < 5')"
      ],
      "metadata": {
        "colab": {
          "base_uri": "https://localhost:8080/"
        },
        "id": "oOHVVYm13MHu",
        "outputId": "8198a0dd-afab-4570-864d-5b8af2268741"
      },
      "execution_count": 30,
      "outputs": [
        {
          "output_type": "stream",
          "name": "stdout",
          "text": [
            "0\n",
            "1\n",
            "2\n",
            "3\n",
            "4\n",
            "no longer < 5\n"
          ]
        }
      ]
    },
    {
      "cell_type": "code",
      "source": [
        "number = 0\n",
        "while number < 5:\n",
        "  number = number + 1\n",
        "  if number == 3:\n",
        "    continue\n",
        "  print(number)\n",
        "else:\n",
        "  print('no longer < 5')"
      ],
      "metadata": {
        "colab": {
          "base_uri": "https://localhost:8080/"
        },
        "id": "OqavSmSn3To3",
        "outputId": "2992f9a8-70cf-487c-c99d-2495def89fb5"
      },
      "execution_count": 33,
      "outputs": [
        {
          "output_type": "stream",
          "name": "stdout",
          "text": [
            "1\n",
            "2\n",
            "4\n",
            "5\n",
            "no longer < 5\n"
          ]
        }
      ]
    },
    {
      "cell_type": "code",
      "source": [
        "# Function\n",
        "def first_func():\n",
        "  print('hello')\n",
        "first_func()"
      ],
      "metadata": {
        "colab": {
          "base_uri": "https://localhost:8080/"
        },
        "id": "wn-hpekE4c-R",
        "outputId": "559d252e-d6fb-47d4-aacb-537175360f36"
      },
      "execution_count": 35,
      "outputs": [
        {
          "output_type": "stream",
          "name": "stdout",
          "text": [
            "hello\n"
          ]
        }
      ]
    },
    {
      "cell_type": "code",
      "source": [
        "def number_squared(number):\n",
        "  print(number**2)\n",
        "number_squared(5)"
      ],
      "metadata": {
        "colab": {
          "base_uri": "https://localhost:8080/"
        },
        "id": "qKGjYj8j5VJL",
        "outputId": "3c124c29-3490-48fa-9220-7d8183d20527"
      },
      "execution_count": 36,
      "outputs": [
        {
          "output_type": "stream",
          "name": "stdout",
          "text": [
            "25\n"
          ]
        }
      ]
    },
    {
      "cell_type": "code",
      "source": [
        "def number_squared_cust(number,power):\n",
        "  print(number**power)\n",
        "number_squared_cust(5,3)"
      ],
      "metadata": {
        "colab": {
          "base_uri": "https://localhost:8080/"
        },
        "id": "ORpeLFOs5kua",
        "outputId": "ae51f248-e813-49c5-b0e2-b9d265ea1abb"
      },
      "execution_count": 37,
      "outputs": [
        {
          "output_type": "stream",
          "name": "stdout",
          "text": [
            "125\n"
          ]
        }
      ]
    },
    {
      "cell_type": "code",
      "source": [
        "def number_args(*number):\n",
        "  print(number[0]*number[1])\n",
        "number_args(5,6,1,2,8)"
      ],
      "metadata": {
        "colab": {
          "base_uri": "https://localhost:8080/"
        },
        "id": "YSl11MGe6Bdl",
        "outputId": "91450434-744d-4b6f-99a2-c189268cd260"
      },
      "execution_count": 38,
      "outputs": [
        {
          "output_type": "stream",
          "name": "stdout",
          "text": [
            "30\n"
          ]
        }
      ]
    },
    {
      "cell_type": "code",
      "source": [
        "args_tuple = (5,6,1,2,8)\n",
        "def number_args(*number):\n",
        "  print(number[0]*number[1])\n",
        "number_args(*args_tuple)"
      ],
      "metadata": {
        "colab": {
          "base_uri": "https://localhost:8080/"
        },
        "id": "87uNLSml6bJI",
        "outputId": "1c02910e-38de-4e8d-a5d3-202241e20be8"
      },
      "execution_count": 39,
      "outputs": [
        {
          "output_type": "stream",
          "name": "stdout",
          "text": [
            "30\n"
          ]
        }
      ]
    },
    {
      "cell_type": "code",
      "source": [
        "def number_squared_cust(number,power):\n",
        "  print(number**power)\n",
        "number_squared_cust(power = 5, number = 3)"
      ],
      "metadata": {
        "colab": {
          "base_uri": "https://localhost:8080/"
        },
        "id": "KRTYXI89674t",
        "outputId": "2a69831d-ff92-4b1e-e2b5-1b7fa2d77050"
      },
      "execution_count": 40,
      "outputs": [
        {
          "output_type": "stream",
          "name": "stdout",
          "text": [
            "243\n"
          ]
        }
      ]
    },
    {
      "cell_type": "code",
      "source": [
        "def number_kwarg(**number):\n",
        "  print('number: ' + number['integer'] + ' other number: ' + number['integer2'])\n",
        "number_kwarg(integer = '2309', integer2 = '349')"
      ],
      "metadata": {
        "colab": {
          "base_uri": "https://localhost:8080/"
        },
        "id": "zsEA5m9e7be6",
        "outputId": "76a79489-c4a2-4e95-aeee-56381263fd4d"
      },
      "execution_count": 44,
      "outputs": [
        {
          "output_type": "stream",
          "name": "stdout",
          "text": [
            "number: 2309 other number: 349\n"
          ]
        }
      ]
    },
    {
      "cell_type": "code",
      "source": [
        "# Converting data types\n",
        "num_int = 7\n",
        "type(num_int)"
      ],
      "metadata": {
        "colab": {
          "base_uri": "https://localhost:8080/"
        },
        "id": "-OZnosvU9m3z",
        "outputId": "aa7ee218-bb90-4081-9d11-c24ca1bc7506"
      },
      "execution_count": 45,
      "outputs": [
        {
          "output_type": "execute_result",
          "data": {
            "text/plain": [
              "int"
            ]
          },
          "metadata": {},
          "execution_count": 45
        }
      ]
    },
    {
      "cell_type": "code",
      "source": [
        "num_str = '7'\n",
        "type(num_str)"
      ],
      "metadata": {
        "colab": {
          "base_uri": "https://localhost:8080/"
        },
        "id": "sdAXU-I_-I4_",
        "outputId": "b2000b32-9bc3-4c79-af8d-1f6bfe7dbf41"
      },
      "execution_count": 46,
      "outputs": [
        {
          "output_type": "execute_result",
          "data": {
            "text/plain": [
              "str"
            ]
          },
          "metadata": {},
          "execution_count": 46
        }
      ]
    },
    {
      "cell_type": "code",
      "source": [
        "num_str_conv = int(num_str)\n",
        "type(num_str_conv)"
      ],
      "metadata": {
        "colab": {
          "base_uri": "https://localhost:8080/"
        },
        "id": "7r9r6UVT-NMa",
        "outputId": "8081c700-3020-4edd-edc5-84c084d45ee3"
      },
      "execution_count": 47,
      "outputs": [
        {
          "output_type": "execute_result",
          "data": {
            "text/plain": [
              "int"
            ]
          },
          "metadata": {},
          "execution_count": 47
        }
      ]
    },
    {
      "cell_type": "code",
      "source": [
        "num_sum = num_int + num_str_conv\n",
        "print(num_sum)"
      ],
      "metadata": {
        "colab": {
          "base_uri": "https://localhost:8080/"
        },
        "id": "aPAvozvw-0RS",
        "outputId": "d795cb8a-2d2b-470c-fd72-4f4871c2aeae"
      },
      "execution_count": 48,
      "outputs": [
        {
          "output_type": "stream",
          "name": "stdout",
          "text": [
            "14\n"
          ]
        }
      ]
    },
    {
      "cell_type": "code",
      "source": [
        "type(num_sum)"
      ],
      "metadata": {
        "colab": {
          "base_uri": "https://localhost:8080/"
        },
        "id": "X_OxRs--_CGl",
        "outputId": "777e6f55-3cf0-4017-fb23-a66126cb2867"
      },
      "execution_count": 49,
      "outputs": [
        {
          "output_type": "execute_result",
          "data": {
            "text/plain": [
              "int"
            ]
          },
          "metadata": {},
          "execution_count": 49
        }
      ]
    },
    {
      "cell_type": "code",
      "source": [
        "long_str = 'i like to travel'\n",
        "set(long_str)"
      ],
      "metadata": {
        "colab": {
          "base_uri": "https://localhost:8080/"
        },
        "id": "fDjEVq6e_Fb-",
        "outputId": "b6c3545a-ef0e-44e9-f569-4f95d953979a"
      },
      "execution_count": 50,
      "outputs": [
        {
          "output_type": "execute_result",
          "data": {
            "text/plain": [
              "{' ', 'a', 'e', 'i', 'k', 'l', 'o', 'r', 't', 'v'}"
            ]
          },
          "metadata": {},
          "execution_count": 50
        }
      ]
    }
  ]
}